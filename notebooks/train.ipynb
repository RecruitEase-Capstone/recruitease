{
 "cells": [
  {
   "cell_type": "code",
   "execution_count": 146,
   "id": "35a2ab0a",
   "metadata": {},
   "outputs": [],
   "source": [
    "import random\n",
    "random.seed(42)"
   ]
  },
  {
   "cell_type": "code",
   "execution_count": 182,
   "id": "bbc9e407",
   "metadata": {},
   "outputs": [],
   "source": [
    "import numpy as np\n",
    "import pandas as pd\n",
    "import matplotlib.pyplot as plt\n",
    "\n",
    "\n",
    "import spacy\n",
    "from spacy.training import offsets_to_biluo_tags\n",
    "nlp=spacy.load('en_core_web_lg')\n",
    "\n",
    "from tqdm import trange\n",
    "import torch\n",
    "import torch.nn.functional as F \n",
    "from torch.optim import AdamW\n",
    "from torch.utils.data import TensorDataset,DataLoader,RandomSampler,SequentialSampler\n",
    "from tensorflow.keras.preprocessing.sequence import pad_sequences\n",
    "from sklearn.model_selection import train_test_split\n",
    "\n",
    "from pytorch_pretrained_bert import BertTokenizer,BertConfig\n",
    "from transformers import AutoTokenizer, AutoModelForTokenClassification, BertForTokenClassification\n",
    "from torch.utils.data import TensorDataset, DataLoader, RandomSampler\n",
    "from tqdm import trange, tqdm\n",
    "import torch\n",
    "import numpy as np\n",
    "\n",
    "\n",
    "from seqeval.metrics import classification_report,accuracy_score,f1_score\n",
    "import warnings\n",
    "warnings.filterwarnings('ignore')\n",
    "\n",
    "#Text preprocessing tools\n",
    "from nltk.tokenize import word_tokenize\n",
    "from nltk.corpus import stopwords,wordnet\n",
    "from nltk import pos_tag\n",
    "from nltk.stem import WordNetLemmatizer\n",
    "import fitz\n",
    "import os\n",
    "\n",
    "#Make each token predict result into softmax mode\n",
    "from scipy.special import softmax"
   ]
  },
  {
   "cell_type": "code",
   "execution_count": 148,
   "id": "1e3aed69",
   "metadata": {},
   "outputs": [],
   "source": [
    "#Adding '\\n' to the default spacy tokenizer\n",
    "prefixes=[i+'\\\\n' for i in nlp.Defaults.prefixes]\n",
    "prefix_regex = spacy.util.compile_prefix_regex(prefixes)\n",
    "nlp.tokenizer.prefix_search = prefix_regex.search"
   ]
  },
  {
   "cell_type": "code",
   "execution_count": 149,
   "id": "ca785e9b",
   "metadata": {},
   "outputs": [],
   "source": [
    "#Personal custom tags dictionary\n",
    "entity_dict={\n",
    "    'Name':'NAME',\n",
    "    'College Name':'CLG',\n",
    "    'Degree':'DEG',\n",
    "    'Graduation Year':'GRADYEAR',\n",
    "    'Years of Experience': 'YOE',\n",
    "    'Companies worked at':'COMPANY',\n",
    "    'Designation':'DESIG',\n",
    "    'Skills':'SKILLS',\n",
    "    'Location':'LOC',\n",
    "    'Email Address':'EMAIL'\n",
    "}"
   ]
  },
  {
   "cell_type": "markdown",
   "id": "d7f2fda1",
   "metadata": {},
   "source": [
    "Load Data"
   ]
  },
  {
   "cell_type": "code",
   "execution_count": 150,
   "id": "5bd3f750",
   "metadata": {},
   "outputs": [],
   "source": [
    "import spacy\n",
    "from spacy.tokens import DocBin\n",
    "from tqdm import tqdm  \n",
    "import json"
   ]
  },
  {
   "cell_type": "code",
   "execution_count": 151,
   "id": "51301b7d",
   "metadata": {},
   "outputs": [
    {
     "data": {
      "text/html": [
       "<div>\n",
       "<style scoped>\n",
       "    .dataframe tbody tr th:only-of-type {\n",
       "        vertical-align: middle;\n",
       "    }\n",
       "\n",
       "    .dataframe tbody tr th {\n",
       "        vertical-align: top;\n",
       "    }\n",
       "\n",
       "    .dataframe thead th {\n",
       "        text-align: right;\n",
       "    }\n",
       "</style>\n",
       "<table border=\"1\" class=\"dataframe\">\n",
       "  <thead>\n",
       "    <tr style=\"text-align: right;\">\n",
       "      <th></th>\n",
       "      <th>content</th>\n",
       "      <th>annotation</th>\n",
       "    </tr>\n",
       "  </thead>\n",
       "  <tbody>\n",
       "    <tr>\n",
       "      <th>0</th>\n",
       "      <td>Abhishek Jha\\nApplication Development Associat...</td>\n",
       "      <td>[{'label': ['Skills'], 'points': [{'start': 12...</td>\n",
       "    </tr>\n",
       "    <tr>\n",
       "      <th>1</th>\n",
       "      <td>Afreen Jamadar\\nActive member of IIIT Committe...</td>\n",
       "      <td>[{'label': ['Email Address'], 'points': [{'sta...</td>\n",
       "    </tr>\n",
       "    <tr>\n",
       "      <th>2</th>\n",
       "      <td>Akhil Yadav Polemaina\\nHyderabad, Telangana - ...</td>\n",
       "      <td>[{'label': ['Skills'], 'points': [{'start': 37...</td>\n",
       "    </tr>\n",
       "    <tr>\n",
       "      <th>3</th>\n",
       "      <td>Alok Khandai\\nOperational Analyst (SQL DBA) En...</td>\n",
       "      <td>[{'label': ['Skills'], 'points': [{'start': 80...</td>\n",
       "    </tr>\n",
       "    <tr>\n",
       "      <th>4</th>\n",
       "      <td>Ananya Chavan\\nlecturer - oracle tutorials\\n\\n...</td>\n",
       "      <td>[{'label': ['Degree'], 'points': [{'start': 20...</td>\n",
       "    </tr>\n",
       "  </tbody>\n",
       "</table>\n",
       "</div>"
      ],
      "text/plain": [
       "                                             content  \\\n",
       "0  Abhishek Jha\\nApplication Development Associat...   \n",
       "1  Afreen Jamadar\\nActive member of IIIT Committe...   \n",
       "2  Akhil Yadav Polemaina\\nHyderabad, Telangana - ...   \n",
       "3  Alok Khandai\\nOperational Analyst (SQL DBA) En...   \n",
       "4  Ananya Chavan\\nlecturer - oracle tutorials\\n\\n...   \n",
       "\n",
       "                                          annotation  \n",
       "0  [{'label': ['Skills'], 'points': [{'start': 12...  \n",
       "1  [{'label': ['Email Address'], 'points': [{'sta...  \n",
       "2  [{'label': ['Skills'], 'points': [{'start': 37...  \n",
       "3  [{'label': ['Skills'], 'points': [{'start': 80...  \n",
       "4  [{'label': ['Degree'], 'points': [{'start': 20...  "
      ]
     },
     "execution_count": 151,
     "metadata": {},
     "output_type": "execute_result"
    }
   ],
   "source": [
    "#Loading the dataset\n",
    "data_file_address='../dataset/github/Resumes.json'\n",
    "df=pd.read_json(data_file_address,lines=True)\n",
    "df=df.drop(['extras'],axis=1)\n",
    "df.head()"
   ]
  },
  {
   "cell_type": "code",
   "execution_count": 152,
   "id": "a92b324c",
   "metadata": {},
   "outputs": [],
   "source": [
    "def mergeIntervals(intervals):\n",
    "    #Sort based on the tuple start (start,end,label)\n",
    "    sorted_by_lower_bound = sorted(intervals, key=lambda tup: tup[0])\n",
    "    merged = []\n",
    "\n",
    "    for higher in sorted_by_lower_bound:\n",
    "        if not merged:\n",
    "            merged.append(higher)\n",
    "        else:\n",
    "            lower = merged[-1]\n",
    "            if higher[0] <= lower[1]:\n",
    "                if lower[2] is higher[2]:\n",
    "                    upper_bound = max(lower[1], higher[1])\n",
    "                    merged[-1] = (lower[0], upper_bound, lower[2])\n",
    "                else:\n",
    "                    if lower[1] > higher[1]:\n",
    "                        merged[-1] = lower\n",
    "                    else:\n",
    "                        merged[-1] = (lower[0], higher[1], higher[2])\n",
    "            else:\n",
    "                merged.append(higher)\n",
    "\n",
    "    return merged"
   ]
  },
  {
   "cell_type": "code",
   "execution_count": 153,
   "id": "fbd55bab",
   "metadata": {},
   "outputs": [],
   "source": [
    "def get_entities(df):\n",
    "    \n",
    "    entities = []\n",
    "    \n",
    "    for i in range(len(df)):\n",
    "        entity = []\n",
    "    \n",
    "        for annot in df['annotation'][i]:\n",
    "            try:\n",
    "                ent = entity_dict[annot['label'][0]]\n",
    "                start = annot['points'][0]['start']\n",
    "                end = annot['points'][0]['end'] + 1\n",
    "                entity.append((start, end, ent))\n",
    "            except:\n",
    "                pass\n",
    "    \n",
    "        entity = mergeIntervals(entity)\n",
    "        entities.append(entity)\n",
    "    \n",
    "    return entities"
   ]
  },
  {
   "cell_type": "code",
   "execution_count": 154,
   "id": "148b69f9",
   "metadata": {},
   "outputs": [
    {
     "data": {
      "text/html": [
       "<div>\n",
       "<style scoped>\n",
       "    .dataframe tbody tr th:only-of-type {\n",
       "        vertical-align: middle;\n",
       "    }\n",
       "\n",
       "    .dataframe tbody tr th {\n",
       "        vertical-align: top;\n",
       "    }\n",
       "\n",
       "    .dataframe thead th {\n",
       "        text-align: right;\n",
       "    }\n",
       "</style>\n",
       "<table border=\"1\" class=\"dataframe\">\n",
       "  <thead>\n",
       "    <tr style=\"text-align: right;\">\n",
       "      <th></th>\n",
       "      <th>content</th>\n",
       "      <th>annotation</th>\n",
       "      <th>entities</th>\n",
       "    </tr>\n",
       "  </thead>\n",
       "  <tbody>\n",
       "    <tr>\n",
       "      <th>0</th>\n",
       "      <td>Abhishek Jha\\nApplication Development Associat...</td>\n",
       "      <td>[{'label': ['Skills'], 'points': [{'start': 12...</td>\n",
       "      <td>[(0, 12, NAME), (13, 46, DESIG), (49, 58, COMP...</td>\n",
       "    </tr>\n",
       "    <tr>\n",
       "      <th>1</th>\n",
       "      <td>Afreen Jamadar\\nActive member of IIIT Committe...</td>\n",
       "      <td>[{'label': ['Email Address'], 'points': [{'sta...</td>\n",
       "      <td>[(0, 14, NAME), (62, 68, LOC), (104, 148, EMAI...</td>\n",
       "    </tr>\n",
       "    <tr>\n",
       "      <th>2</th>\n",
       "      <td>Akhil Yadav Polemaina\\nHyderabad, Telangana - ...</td>\n",
       "      <td>[{'label': ['Skills'], 'points': [{'start': 37...</td>\n",
       "      <td>[(0, 21, NAME), (22, 31, LOC), (65, 117, EMAIL...</td>\n",
       "    </tr>\n",
       "    <tr>\n",
       "      <th>3</th>\n",
       "      <td>Alok Khandai\\nOperational Analyst (SQL DBA) En...</td>\n",
       "      <td>[{'label': ['Skills'], 'points': [{'start': 80...</td>\n",
       "      <td>[(0, 12, NAME), (13, 51, DESIG), (54, 60, COMP...</td>\n",
       "    </tr>\n",
       "    <tr>\n",
       "      <th>4</th>\n",
       "      <td>Ananya Chavan\\nlecturer - oracle tutorials\\n\\n...</td>\n",
       "      <td>[{'label': ['Degree'], 'points': [{'start': 20...</td>\n",
       "      <td>[(0, 13, NAME), (14, 22, DESIG), (24, 41, COMP...</td>\n",
       "    </tr>\n",
       "  </tbody>\n",
       "</table>\n",
       "</div>"
      ],
      "text/plain": [
       "                                             content  \\\n",
       "0  Abhishek Jha\\nApplication Development Associat...   \n",
       "1  Afreen Jamadar\\nActive member of IIIT Committe...   \n",
       "2  Akhil Yadav Polemaina\\nHyderabad, Telangana - ...   \n",
       "3  Alok Khandai\\nOperational Analyst (SQL DBA) En...   \n",
       "4  Ananya Chavan\\nlecturer - oracle tutorials\\n\\n...   \n",
       "\n",
       "                                          annotation  \\\n",
       "0  [{'label': ['Skills'], 'points': [{'start': 12...   \n",
       "1  [{'label': ['Email Address'], 'points': [{'sta...   \n",
       "2  [{'label': ['Skills'], 'points': [{'start': 37...   \n",
       "3  [{'label': ['Skills'], 'points': [{'start': 80...   \n",
       "4  [{'label': ['Degree'], 'points': [{'start': 20...   \n",
       "\n",
       "                                            entities  \n",
       "0  [(0, 12, NAME), (13, 46, DESIG), (49, 58, COMP...  \n",
       "1  [(0, 14, NAME), (62, 68, LOC), (104, 148, EMAI...  \n",
       "2  [(0, 21, NAME), (22, 31, LOC), (65, 117, EMAIL...  \n",
       "3  [(0, 12, NAME), (13, 51, DESIG), (54, 60, COMP...  \n",
       "4  [(0, 13, NAME), (14, 22, DESIG), (24, 41, COMP...  "
      ]
     },
     "execution_count": 154,
     "metadata": {},
     "output_type": "execute_result"
    }
   ],
   "source": [
    "df['entities']=get_entities(df)\n",
    "df.head()"
   ]
  },
  {
   "cell_type": "code",
   "execution_count": 155,
   "id": "166eb18d",
   "metadata": {},
   "outputs": [
    {
     "data": {
      "text/plain": [
       "[(0, 12, 'NAME'),\n",
       " (13, 46, 'DESIG'),\n",
       " (49, 58, 'COMPANY'),\n",
       " (60, 69, 'LOC'),\n",
       " (95, 146, 'EMAIL'),\n",
       " (372, 405, 'DESIG'),\n",
       " (407, 416, 'COMPANY'),\n",
       " (727, 770, 'DESIG'),\n",
       " (771, 814, 'CLG'),\n",
       " (856, 861, 'GRADYEAR'),\n",
       " (883, 905, 'CLG'),\n",
       " (939, 957, 'CLG'),\n",
       " (993, 1154, 'SKILLS'),\n",
       " (1295, 1622, 'SKILLS')]"
      ]
     },
     "execution_count": 155,
     "metadata": {},
     "output_type": "execute_result"
    }
   ],
   "source": [
    "df.iloc[0]['entities']"
   ]
  },
  {
   "cell_type": "code",
   "execution_count": 156,
   "id": "515d6765",
   "metadata": {},
   "outputs": [],
   "source": [
    "def get_train_data(df):\n",
    "    tags = []\n",
    "    sentences = []\n",
    "\n",
    "    for i in range(len(df)):\n",
    "        text = df['content'][i]\n",
    "        entities = df['entities'][i]\n",
    "    \n",
    "        doc = nlp(text)\n",
    "    \n",
    "        tag = offsets_to_biluo_tags(doc, entities)\n",
    "        tmp = pd.DataFrame([list(doc), tag]).T\n",
    "        loc = []\n",
    "        for i in range(len(tmp)):\n",
    "            if tmp[0][i].text is '.' and tmp[1][i] is 'O':\n",
    "                loc.append(i)\n",
    "        loc.append(len(doc))\n",
    "    \n",
    "        last = 0\n",
    "        data = []\n",
    "        for pos in loc:\n",
    "            data.append([list(doc)[last:pos], tag[last:pos]])\n",
    "            last = pos\n",
    "    \n",
    "        for d in data:\n",
    "            tag = ['O' if t is '-' else t for t in d[1]]\n",
    "            if len(set(tag)) > 1:\n",
    "                sentences.append(d[0])\n",
    "                tags.append(tag)\n",
    "    \n",
    "    return sentences, tags"
   ]
  },
  {
   "cell_type": "code",
   "execution_count": 157,
   "id": "b8601809",
   "metadata": {},
   "outputs": [
    {
     "name": "stdout",
     "output_type": "stream",
     "text": [
      "779 779\n"
     ]
    }
   ],
   "source": [
    "sentences, tags = get_train_data(df)\n",
    "print(len(sentences), len(tags))"
   ]
  },
  {
   "cell_type": "code",
   "execution_count": 158,
   "id": "6feff5d5",
   "metadata": {},
   "outputs": [
    {
     "name": "stdout",
     "output_type": "stream",
     "text": [
      "[Abhishek, Jha, \n",
      ", Application, Development, Associate, -, Accenture, \n",
      ", \n",
      ", Bengaluru, ,, Karnataka, -, Email, me, on, Indeed, :, indeed.com/r/Abhishek-Jha/10e7a8cb732bc43a, \n",
      ", \n",
      ", •, To, work, for, an, organization, which, provides, me, the, opportunity, to, improve, my, skills, \n",
      ", and, knowledge, for, my, individual, and, company, 's, growth, in, best, possible, ways]\n",
      "['B-NAME', 'L-NAME', 'O', 'B-DESIG', 'I-DESIG', 'L-DESIG', 'O', 'U-COMPANY', 'O', 'O', 'U-LOC', 'O', 'O', 'O', 'O', 'O', 'O', 'B-EMAIL', 'I-EMAIL', 'I-EMAIL', 'L-EMAIL', 'O', 'O', 'O', 'O', 'O', 'O', 'O', 'O', 'O', 'O', 'O', 'O', 'O', 'O', 'O', 'O', 'O', 'O', 'O', 'O', 'O', 'O', 'O', 'O', 'O', 'O', 'O', 'O', 'O', 'O']\n"
     ]
    }
   ],
   "source": [
    "print(sentences[0])\n",
    "print(tags[0])"
   ]
  },
  {
   "cell_type": "code",
   "execution_count": 159,
   "id": "af2a2b9a",
   "metadata": {},
   "outputs": [],
   "source": [
    "tag_vals = set(['X', '[CLS]', '[SEP]'])\n",
    "for i in range(len(tags)):\n",
    "    tag_vals = tag_vals.union(tags[i])\n",
    "\n",
    "#tag2idx convert tag to idx, is a dict contains (tag,idx)\n",
    "tag2idx={t:i for i,t in enumerate(tag_vals)}\n",
    "\n",
    "#idx2tag convert tag to idx, is a dict contains (idx,tag)\n",
    "idx2tag = {tag2idx[key] : key for key in tag2idx.keys()}"
   ]
  },
  {
   "cell_type": "code",
   "execution_count": 160,
   "id": "7e9e7e7f",
   "metadata": {},
   "outputs": [
    {
     "name": "stdout",
     "output_type": "stream",
     "text": [
      "{'L-CLG', 'L-SKILLS', 'I-GRADYEAR', 'I-DESIG', 'U-SKILLS', 'U-GRADYEAR', 'U-YOE', 'O', '[SEP]', '[CLS]', 'I-CLG', 'U-LOC', 'I-DEG', 'I-EMAIL', 'L-GRADYEAR', 'L-DESIG', 'B-COMPANY', 'B-LOC', 'L-DEG', 'L-YOE', 'L-COMPANY', 'I-COMPANY', 'B-GRADYEAR', 'U-EMAIL', 'I-NAME', 'U-COMPANY', 'B-SKILLS', 'L-EMAIL', 'B-DEG', 'X', 'U-DESIG', 'B-NAME', 'I-LOC', 'B-DESIG', 'U-DEG', 'I-SKILLS', 'B-YOE', 'L-NAME', 'B-EMAIL', 'U-CLG', 'L-LOC', 'B-CLG', 'I-YOE'}\n",
      "{'L-CLG': 0, 'L-SKILLS': 1, 'I-GRADYEAR': 2, 'I-DESIG': 3, 'U-SKILLS': 4, 'U-GRADYEAR': 5, 'U-YOE': 6, 'O': 7, '[SEP]': 8, '[CLS]': 9, 'I-CLG': 10, 'U-LOC': 11, 'I-DEG': 12, 'I-EMAIL': 13, 'L-GRADYEAR': 14, 'L-DESIG': 15, 'B-COMPANY': 16, 'B-LOC': 17, 'L-DEG': 18, 'L-YOE': 19, 'L-COMPANY': 20, 'I-COMPANY': 21, 'B-GRADYEAR': 22, 'U-EMAIL': 23, 'I-NAME': 24, 'U-COMPANY': 25, 'B-SKILLS': 26, 'L-EMAIL': 27, 'B-DEG': 28, 'X': 29, 'U-DESIG': 30, 'B-NAME': 31, 'I-LOC': 32, 'B-DESIG': 33, 'U-DEG': 34, 'I-SKILLS': 35, 'B-YOE': 36, 'L-NAME': 37, 'B-EMAIL': 38, 'U-CLG': 39, 'L-LOC': 40, 'B-CLG': 41, 'I-YOE': 42}\n",
      "{0: 'L-CLG', 1: 'L-SKILLS', 2: 'I-GRADYEAR', 3: 'I-DESIG', 4: 'U-SKILLS', 5: 'U-GRADYEAR', 6: 'U-YOE', 7: 'O', 8: '[SEP]', 9: '[CLS]', 10: 'I-CLG', 11: 'U-LOC', 12: 'I-DEG', 13: 'I-EMAIL', 14: 'L-GRADYEAR', 15: 'L-DESIG', 16: 'B-COMPANY', 17: 'B-LOC', 18: 'L-DEG', 19: 'L-YOE', 20: 'L-COMPANY', 21: 'I-COMPANY', 22: 'B-GRADYEAR', 23: 'U-EMAIL', 24: 'I-NAME', 25: 'U-COMPANY', 26: 'B-SKILLS', 27: 'L-EMAIL', 28: 'B-DEG', 29: 'X', 30: 'U-DESIG', 31: 'B-NAME', 32: 'I-LOC', 33: 'B-DESIG', 34: 'U-DEG', 35: 'I-SKILLS', 36: 'B-YOE', 37: 'L-NAME', 38: 'B-EMAIL', 39: 'U-CLG', 40: 'L-LOC', 41: 'B-CLG', 42: 'I-YOE'}\n"
     ]
    }
   ],
   "source": [
    "print(tag_vals)\n",
    "print(tag2idx)\n",
    "print(idx2tag)"
   ]
  },
  {
   "cell_type": "markdown",
   "id": "ee485c4f",
   "metadata": {},
   "source": [
    "Training Data"
   ]
  },
  {
   "cell_type": "code",
   "execution_count": 161,
   "id": "bfcb2398",
   "metadata": {},
   "outputs": [
    {
     "data": {
      "text/plain": [
       "1"
      ]
     },
     "execution_count": 161,
     "metadata": {},
     "output_type": "execute_result"
    }
   ],
   "source": [
    "device=torch.device('cuda' if torch.cuda.is_available() else 'cpu')\n",
    "n_gpu=torch.cuda.device_count()\n",
    "n_gpu"
   ]
  },
  {
   "cell_type": "code",
   "execution_count": 162,
   "id": "b048fc3e",
   "metadata": {},
   "outputs": [],
   "source": [
    "#BERT pre-trained tokenizer\n",
    "tokenizer = AutoTokenizer.from_pretrained('dslim/bert-base-NER', do_lower_case=True)"
   ]
  },
  {
   "cell_type": "markdown",
   "id": "81d0fdd3",
   "metadata": {},
   "source": [
    "Tokenizer Text"
   ]
  },
  {
   "cell_type": "code",
   "execution_count": 163,
   "id": "4169f04f",
   "metadata": {},
   "outputs": [],
   "source": [
    "def get_tokenized_train_data(sentences, tags):\n",
    "\n",
    "    tokenized_texts = []\n",
    "    word_piece_labels = []\n",
    "\n",
    "    for word_list, label in zip(sentences, tags):\n",
    "    \n",
    "        # Add [CLS] at the front\n",
    "        temp_lable = ['[CLS]']\n",
    "        temp_token = ['[CLS]']\n",
    "    \n",
    "        for word, lab in zip(word_list, label):\n",
    "            token_list = tokenizer.tokenize(word.text)\n",
    "            for m, token in enumerate(token_list):\n",
    "                temp_token.append(token)\n",
    "                if m == 0:\n",
    "                    temp_lable.append(lab)\n",
    "                else:\n",
    "                    temp_lable.append('X')  \n",
    "                \n",
    "        # Add [SEP] at the end\n",
    "        temp_lable.append('[SEP]')\n",
    "        temp_token.append('[SEP]')\n",
    "    \n",
    "        tokenized_texts.append(temp_token)\n",
    "        word_piece_labels.append(temp_lable)\n",
    "    \n",
    "    return tokenized_texts, word_piece_labels"
   ]
  },
  {
   "cell_type": "code",
   "execution_count": 164,
   "id": "47a44685",
   "metadata": {},
   "outputs": [],
   "source": [
    "tokenized_texts, word_piece_labels = get_tokenized_train_data(sentences, tags)"
   ]
  },
  {
   "cell_type": "code",
   "execution_count": 165,
   "id": "9389f8f7",
   "metadata": {},
   "outputs": [
    {
     "name": "stdout",
     "output_type": "stream",
     "text": [
      "['[CLS]', 'a', '##b', '##his', '##he', '##k', 'j', '##ha', 'application', 'development', 'associate', '-', 'accent', '##ure', 'ben', '##gal', '##uru', ',', 'ka', '##rna', '##ta', '##ka', '-', 'email', 'me', 'on', 'indeed', ':', 'indeed', '.', 'com', '/', 'r', '/', 'a', '##b', '##his', '##he', '##k', '-', 'j', '##ha', '/', '10', '##e', '##7', '##a', '##8', '##c', '##b', '##7', '##32', '##b', '##c', '##43', '##a', '•', 'to', 'work', 'for', 'an', 'organization', 'which', 'provides', 'me', 'the', 'opportunity', 'to', 'improve', 'my', 'skills', 'and', 'knowledge', 'for', 'my', 'individual', 'and', 'company', \"'\", 's', 'growth', 'in', 'best', 'possible', 'ways', '[SEP]']\n",
      "['[CLS]', 'B-NAME', 'X', 'X', 'X', 'X', 'L-NAME', 'X', 'B-DESIG', 'I-DESIG', 'L-DESIG', 'O', 'U-COMPANY', 'X', 'U-LOC', 'X', 'X', 'O', 'O', 'X', 'X', 'X', 'O', 'O', 'O', 'O', 'B-EMAIL', 'I-EMAIL', 'I-EMAIL', 'X', 'X', 'X', 'X', 'X', 'X', 'X', 'X', 'X', 'X', 'X', 'X', 'X', 'X', 'X', 'X', 'X', 'X', 'X', 'X', 'X', 'X', 'X', 'X', 'X', 'X', 'X', 'O', 'O', 'O', 'O', 'O', 'O', 'O', 'O', 'O', 'O', 'O', 'O', 'O', 'O', 'O', 'O', 'O', 'O', 'O', 'O', 'O', 'O', 'O', 'X', 'O', 'O', 'O', 'O', 'O', '[SEP]']\n"
     ]
    }
   ],
   "source": [
    "#Vector representations of the corresponding words from the input\n",
    "print(tokenized_texts[0])\n",
    "print(word_piece_labels[0])"
   ]
  },
  {
   "cell_type": "markdown",
   "id": "1918c057",
   "metadata": {},
   "source": [
    "Token Embedding"
   ]
  },
  {
   "cell_type": "code",
   "execution_count": 166,
   "id": "ca9f9077",
   "metadata": {},
   "outputs": [
    {
     "name": "stdout",
     "output_type": "stream",
     "text": [
      "512\n",
      "[  101   170  1830 27516  4638  1377   179  2328  4048  1718  6500   118\n",
      "  9603  3313 26181  6997 12328   117 24181 11782  1777  1968   118 10632\n",
      "  1143  1113  5750   131  5750   119  3254   120   187   120   170  1830\n",
      " 27516  4638  1377   118   179  2328   120  1275  1162  1559  1161  1604\n",
      "  1665  1830  1559 17101  1830  1665 25631  1161   794  1106  1250  1111\n",
      "  1126  2369  1134  2790  1143  1103  3767  1106  4607  1139  4196  1105\n",
      "  3044  1111  1139  2510  1105  1419   112   188  3213  1107  1436  1936\n",
      "  3242   102     0     0     0     0     0     0     0     0     0     0\n",
      "     0     0     0     0     0     0     0     0     0     0     0     0\n",
      "     0     0     0     0     0     0     0     0     0     0     0     0\n",
      "     0     0     0     0     0     0     0     0     0     0     0     0\n",
      "     0     0     0     0     0     0     0     0     0     0     0     0\n",
      "     0     0     0     0     0     0     0     0     0     0     0     0\n",
      "     0     0     0     0     0     0     0     0     0     0     0     0\n",
      "     0     0     0     0     0     0     0     0     0     0     0     0\n",
      "     0     0     0     0     0     0     0     0     0     0     0     0\n",
      "     0     0     0     0     0     0     0     0     0     0     0     0\n",
      "     0     0     0     0     0     0     0     0     0     0     0     0\n",
      "     0     0     0     0     0     0     0     0     0     0     0     0\n",
      "     0     0     0     0     0     0     0     0     0     0     0     0\n",
      "     0     0     0     0     0     0     0     0     0     0     0     0\n",
      "     0     0     0     0     0     0     0     0     0     0     0     0\n",
      "     0     0     0     0     0     0     0     0     0     0     0     0\n",
      "     0     0     0     0     0     0     0     0     0     0     0     0\n",
      "     0     0     0     0     0     0     0     0     0     0     0     0\n",
      "     0     0     0     0     0     0     0     0     0     0     0     0\n",
      "     0     0     0     0     0     0     0     0     0     0     0     0\n",
      "     0     0     0     0     0     0     0     0     0     0     0     0\n",
      "     0     0     0     0     0     0     0     0     0     0     0     0\n",
      "     0     0     0     0     0     0     0     0     0     0     0     0\n",
      "     0     0     0     0     0     0     0     0     0     0     0     0\n",
      "     0     0     0     0     0     0     0     0     0     0     0     0\n",
      "     0     0     0     0     0     0     0     0     0     0     0     0\n",
      "     0     0     0     0     0     0     0     0     0     0     0     0\n",
      "     0     0     0     0     0     0     0     0     0     0     0     0\n",
      "     0     0     0     0     0     0     0     0     0     0     0     0\n",
      "     0     0     0     0     0     0     0     0     0     0     0     0\n",
      "     0     0     0     0     0     0     0     0     0     0     0     0\n",
      "     0     0     0     0     0     0     0     0     0     0     0     0\n",
      "     0     0     0     0     0     0     0     0     0     0     0     0\n",
      "     0     0     0     0     0     0     0     0     0     0     0     0\n",
      "     0     0     0     0     0     0     0     0     0     0     0     0\n",
      "     0     0     0     0     0     0     0     0]\n"
     ]
    }
   ],
   "source": [
    "MAX_LEN = 512\n",
    "bs = 4\n",
    "\n",
    "#Make text tokens into ids\n",
    "input_ids = pad_sequences([tokenizer.convert_tokens_to_ids(txt) for txt in tokenized_texts],\n",
    "                          maxlen=MAX_LEN, dtype=\"long\", truncating=\"post\", padding=\"post\")\n",
    "print(len(input_ids[0]))\n",
    "print(input_ids[0])"
   ]
  },
  {
   "cell_type": "code",
   "execution_count": 167,
   "id": "997e5e3a",
   "metadata": {},
   "outputs": [
    {
     "name": "stdout",
     "output_type": "stream",
     "text": [
      "512\n",
      "[ 9 31 29 29 29 29 37 29 33  3 15  7 25 29 11 29 29  7  7 29 29 29  7  7\n",
      "  7  7 38 13 13 29 29 29 29 29 29 29 29 29 29 29 29 29 29 29 29 29 29 29\n",
      " 29 29 29 29 29 29 29 29  7  7  7  7  7  7  7  7  7  7  7  7  7  7  7  7\n",
      "  7  7  7  7  7  7  7 29  7  7  7  7  7  8  7  7  7  7  7  7  7  7  7  7\n",
      "  7  7  7  7  7  7  7  7  7  7  7  7  7  7  7  7  7  7  7  7  7  7  7  7\n",
      "  7  7  7  7  7  7  7  7  7  7  7  7  7  7  7  7  7  7  7  7  7  7  7  7\n",
      "  7  7  7  7  7  7  7  7  7  7  7  7  7  7  7  7  7  7  7  7  7  7  7  7\n",
      "  7  7  7  7  7  7  7  7  7  7  7  7  7  7  7  7  7  7  7  7  7  7  7  7\n",
      "  7  7  7  7  7  7  7  7  7  7  7  7  7  7  7  7  7  7  7  7  7  7  7  7\n",
      "  7  7  7  7  7  7  7  7  7  7  7  7  7  7  7  7  7  7  7  7  7  7  7  7\n",
      "  7  7  7  7  7  7  7  7  7  7  7  7  7  7  7  7  7  7  7  7  7  7  7  7\n",
      "  7  7  7  7  7  7  7  7  7  7  7  7  7  7  7  7  7  7  7  7  7  7  7  7\n",
      "  7  7  7  7  7  7  7  7  7  7  7  7  7  7  7  7  7  7  7  7  7  7  7  7\n",
      "  7  7  7  7  7  7  7  7  7  7  7  7  7  7  7  7  7  7  7  7  7  7  7  7\n",
      "  7  7  7  7  7  7  7  7  7  7  7  7  7  7  7  7  7  7  7  7  7  7  7  7\n",
      "  7  7  7  7  7  7  7  7  7  7  7  7  7  7  7  7  7  7  7  7  7  7  7  7\n",
      "  7  7  7  7  7  7  7  7  7  7  7  7  7  7  7  7  7  7  7  7  7  7  7  7\n",
      "  7  7  7  7  7  7  7  7  7  7  7  7  7  7  7  7  7  7  7  7  7  7  7  7\n",
      "  7  7  7  7  7  7  7  7  7  7  7  7  7  7  7  7  7  7  7  7  7  7  7  7\n",
      "  7  7  7  7  7  7  7  7  7  7  7  7  7  7  7  7  7  7  7  7  7  7  7  7\n",
      "  7  7  7  7  7  7  7  7  7  7  7  7  7  7  7  7  7  7  7  7  7  7  7  7\n",
      "  7  7  7  7  7  7  7  7]\n"
     ]
    }
   ],
   "source": [
    "tags = pad_sequences([[tag2idx.get(l) for l in lab] for lab in word_piece_labels], maxlen=MAX_LEN, value=tag2idx[\"O\"], \n",
    "                     padding=\"post\", dtype=\"long\", truncating=\"post\")\n",
    "print(len(tags[0]))\n",
    "print(tags[0])"
   ]
  },
  {
   "cell_type": "markdown",
   "id": "f67b3df8",
   "metadata": {},
   "source": [
    "Mask Word Embeeding"
   ]
  },
  {
   "cell_type": "code",
   "execution_count": 168,
   "id": "d4916ff8",
   "metadata": {},
   "outputs": [
    {
     "name": "stdout",
     "output_type": "stream",
     "text": [
      "[1.0, 1.0, 1.0, 1.0, 1.0, 1.0, 1.0, 1.0, 1.0, 1.0, 1.0, 1.0, 1.0, 1.0, 1.0, 1.0, 1.0, 1.0, 1.0, 1.0, 1.0, 1.0, 1.0, 1.0, 1.0, 1.0, 1.0, 1.0, 1.0, 1.0, 1.0, 1.0, 1.0, 1.0, 1.0, 1.0, 1.0, 1.0, 1.0, 1.0, 1.0, 1.0, 1.0, 1.0, 1.0, 1.0, 1.0, 1.0, 1.0, 1.0, 1.0, 1.0, 1.0, 1.0, 1.0, 1.0, 1.0, 1.0, 1.0, 1.0, 1.0, 1.0, 1.0, 1.0, 1.0, 1.0, 1.0, 1.0, 1.0, 1.0, 1.0, 1.0, 1.0, 1.0, 1.0, 1.0, 1.0, 1.0, 1.0, 1.0, 1.0, 1.0, 1.0, 1.0, 1.0, 1.0, 0.0, 0.0, 0.0, 0.0, 0.0, 0.0, 0.0, 0.0, 0.0, 0.0, 0.0, 0.0, 0.0, 0.0, 0.0, 0.0, 0.0, 0.0, 0.0, 0.0, 0.0, 0.0, 0.0, 0.0, 0.0, 0.0, 0.0, 0.0, 0.0, 0.0, 0.0, 0.0, 0.0, 0.0, 0.0, 0.0, 0.0, 0.0, 0.0, 0.0, 0.0, 0.0, 0.0, 0.0, 0.0, 0.0, 0.0, 0.0, 0.0, 0.0, 0.0, 0.0, 0.0, 0.0, 0.0, 0.0, 0.0, 0.0, 0.0, 0.0, 0.0, 0.0, 0.0, 0.0, 0.0, 0.0, 0.0, 0.0, 0.0, 0.0, 0.0, 0.0, 0.0, 0.0, 0.0, 0.0, 0.0, 0.0, 0.0, 0.0, 0.0, 0.0, 0.0, 0.0, 0.0, 0.0, 0.0, 0.0, 0.0, 0.0, 0.0, 0.0, 0.0, 0.0, 0.0, 0.0, 0.0, 0.0, 0.0, 0.0, 0.0, 0.0, 0.0, 0.0, 0.0, 0.0, 0.0, 0.0, 0.0, 0.0, 0.0, 0.0, 0.0, 0.0, 0.0, 0.0, 0.0, 0.0, 0.0, 0.0, 0.0, 0.0, 0.0, 0.0, 0.0, 0.0, 0.0, 0.0, 0.0, 0.0, 0.0, 0.0, 0.0, 0.0, 0.0, 0.0, 0.0, 0.0, 0.0, 0.0, 0.0, 0.0, 0.0, 0.0, 0.0, 0.0, 0.0, 0.0, 0.0, 0.0, 0.0, 0.0, 0.0, 0.0, 0.0, 0.0, 0.0, 0.0, 0.0, 0.0, 0.0, 0.0, 0.0, 0.0, 0.0, 0.0, 0.0, 0.0, 0.0, 0.0, 0.0, 0.0, 0.0, 0.0, 0.0, 0.0, 0.0, 0.0, 0.0, 0.0, 0.0, 0.0, 0.0, 0.0, 0.0, 0.0, 0.0, 0.0, 0.0, 0.0, 0.0, 0.0, 0.0, 0.0, 0.0, 0.0, 0.0, 0.0, 0.0, 0.0, 0.0, 0.0, 0.0, 0.0, 0.0, 0.0, 0.0, 0.0, 0.0, 0.0, 0.0, 0.0, 0.0, 0.0, 0.0, 0.0, 0.0, 0.0, 0.0, 0.0, 0.0, 0.0, 0.0, 0.0, 0.0, 0.0, 0.0, 0.0, 0.0, 0.0, 0.0, 0.0, 0.0, 0.0, 0.0, 0.0, 0.0, 0.0, 0.0, 0.0, 0.0, 0.0, 0.0, 0.0, 0.0, 0.0, 0.0, 0.0, 0.0, 0.0, 0.0, 0.0, 0.0, 0.0, 0.0, 0.0, 0.0, 0.0, 0.0, 0.0, 0.0, 0.0, 0.0, 0.0, 0.0, 0.0, 0.0, 0.0, 0.0, 0.0, 0.0, 0.0, 0.0, 0.0, 0.0, 0.0, 0.0, 0.0, 0.0, 0.0, 0.0, 0.0, 0.0, 0.0, 0.0, 0.0, 0.0, 0.0, 0.0, 0.0, 0.0, 0.0, 0.0, 0.0, 0.0, 0.0, 0.0, 0.0, 0.0, 0.0, 0.0, 0.0, 0.0, 0.0, 0.0, 0.0, 0.0, 0.0, 0.0, 0.0, 0.0, 0.0, 0.0, 0.0, 0.0, 0.0, 0.0, 0.0, 0.0, 0.0, 0.0, 0.0, 0.0, 0.0, 0.0, 0.0, 0.0, 0.0, 0.0, 0.0, 0.0, 0.0, 0.0, 0.0, 0.0, 0.0, 0.0, 0.0, 0.0, 0.0, 0.0, 0.0, 0.0, 0.0, 0.0, 0.0, 0.0, 0.0, 0.0, 0.0, 0.0, 0.0, 0.0, 0.0, 0.0, 0.0, 0.0, 0.0, 0.0, 0.0, 0.0, 0.0, 0.0, 0.0, 0.0, 0.0, 0.0, 0.0, 0.0, 0.0, 0.0, 0.0, 0.0, 0.0, 0.0, 0.0, 0.0, 0.0, 0.0, 0.0, 0.0, 0.0, 0.0, 0.0, 0.0, 0.0, 0.0, 0.0, 0.0, 0.0, 0.0, 0.0, 0.0, 0.0, 0.0, 0.0, 0.0, 0.0, 0.0, 0.0, 0.0, 0.0, 0.0, 0.0, 0.0, 0.0, 0.0, 0.0, 0.0, 0.0, 0.0, 0.0, 0.0, 0.0, 0.0, 0.0, 0.0, 0.0, 0.0, 0.0, 0.0, 0.0, 0.0, 0.0, 0.0, 0.0]\n"
     ]
    }
   ],
   "source": [
    "attention_masks=[[float(i>0) for i in ii] for ii in input_ids]\n",
    "print(attention_masks[0])"
   ]
  },
  {
   "cell_type": "markdown",
   "id": "97adaa68",
   "metadata": {},
   "source": [
    "Split Data Train and Validation"
   ]
  },
  {
   "cell_type": "code",
   "execution_count": 169,
   "id": "a226e380",
   "metadata": {},
   "outputs": [],
   "source": [
    "tr_inputs,val_inputs,tr_tags,val_tags,tr_masks,val_masks=train_test_split(input_ids,tags,attention_masks, random_state=2000, test_size=0.3)"
   ]
  },
  {
   "cell_type": "code",
   "execution_count": 170,
   "id": "95f59695",
   "metadata": {},
   "outputs": [
    {
     "data": {
      "text/plain": [
       "(545, 234, 545, 234, 545, 234)"
      ]
     },
     "execution_count": 170,
     "metadata": {},
     "output_type": "execute_result"
    }
   ],
   "source": [
    "len(tr_inputs),len(val_inputs),len(tr_tags),len(val_tags),len(tr_masks),len(val_masks)"
   ]
  },
  {
   "cell_type": "code",
   "execution_count": 171,
   "id": "ca27cb0b",
   "metadata": {},
   "outputs": [],
   "source": [
    "tr_inputs=torch.tensor(tr_inputs)\n",
    "val_inputs=torch.tensor(val_inputs)\n",
    "tr_tags=torch.tensor(tr_tags)\n",
    "val_tags=torch.tensor(val_tags)\n",
    "tr_masks=torch.tensor(tr_masks)\n",
    "val_masks=torch.tensor(val_masks)           "
   ]
  },
  {
   "cell_type": "code",
   "execution_count": 172,
   "id": "ede95887",
   "metadata": {},
   "outputs": [],
   "source": [
    "train_data=TensorDataset(tr_inputs,tr_masks,tr_tags)\n",
    "train_sampler=RandomSampler(train_data) \n",
    "train_dataloader=DataLoader(train_data,sampler=train_sampler,batch_size=bs) \n",
    "\n",
    "valid_data=TensorDataset(val_inputs,val_masks,val_tags)\n",
    "valid_sampler=SequentialSampler(valid_data)\n",
    "valid_dataloader=DataLoader(valid_data,sampler=valid_sampler,batch_size=bs)"
   ]
  },
  {
   "cell_type": "code",
   "execution_count": 173,
   "id": "17bb729b",
   "metadata": {},
   "outputs": [
    {
     "name": "stderr",
     "output_type": "stream",
     "text": [
      "Some weights of the model checkpoint at dslim/bert-base-NER were not used when initializing BertForTokenClassification: ['bert.pooler.dense.bias', 'bert.pooler.dense.weight']\n",
      "- This IS expected if you are initializing BertForTokenClassification from the checkpoint of a model trained on another task or with another architecture (e.g. initializing a BertForSequenceClassification model from a BertForPreTraining model).\n",
      "- This IS NOT expected if you are initializing BertForTokenClassification from the checkpoint of a model that you expect to be exactly identical (initializing a BertForSequenceClassification model from a BertForSequenceClassification model).\n",
      "Some weights of BertForTokenClassification were not initialized from the model checkpoint at dslim/bert-base-NER and are newly initialized because the shapes did not match:\n",
      "- classifier.bias: found shape torch.Size([9]) in the checkpoint and torch.Size([43]) in the model instantiated\n",
      "- classifier.weight: found shape torch.Size([9, 768]) in the checkpoint and torch.Size([43, 768]) in the model instantiated\n",
      "You should probably TRAIN this model on a down-stream task to be able to use it for predictions and inference.\n"
     ]
    }
   ],
   "source": [
    "bert_model = BertForTokenClassification.from_pretrained('dslim/bert-base-NER',\n",
    "        num_labels=len(tag2idx),\n",
    "        id2label=idx2tag,\n",
    "        label2id=tag2idx,\n",
    "        ignore_mismatched_sizes = True\n",
    "    )"
   ]
  },
  {
   "cell_type": "code",
   "execution_count": 174,
   "id": "42f534d9",
   "metadata": {},
   "outputs": [
    {
     "data": {
      "text/plain": [
       "BertForTokenClassification(\n",
       "  (bert): BertModel(\n",
       "    (embeddings): BertEmbeddings(\n",
       "      (word_embeddings): Embedding(28996, 768, padding_idx=0)\n",
       "      (position_embeddings): Embedding(512, 768)\n",
       "      (token_type_embeddings): Embedding(2, 768)\n",
       "      (LayerNorm): LayerNorm((768,), eps=1e-12, elementwise_affine=True)\n",
       "      (dropout): Dropout(p=0.1, inplace=False)\n",
       "    )\n",
       "    (encoder): BertEncoder(\n",
       "      (layer): ModuleList(\n",
       "        (0-11): 12 x BertLayer(\n",
       "          (attention): BertAttention(\n",
       "            (self): BertSdpaSelfAttention(\n",
       "              (query): Linear(in_features=768, out_features=768, bias=True)\n",
       "              (key): Linear(in_features=768, out_features=768, bias=True)\n",
       "              (value): Linear(in_features=768, out_features=768, bias=True)\n",
       "              (dropout): Dropout(p=0.1, inplace=False)\n",
       "            )\n",
       "            (output): BertSelfOutput(\n",
       "              (dense): Linear(in_features=768, out_features=768, bias=True)\n",
       "              (LayerNorm): LayerNorm((768,), eps=1e-12, elementwise_affine=True)\n",
       "              (dropout): Dropout(p=0.1, inplace=False)\n",
       "            )\n",
       "          )\n",
       "          (intermediate): BertIntermediate(\n",
       "            (dense): Linear(in_features=768, out_features=3072, bias=True)\n",
       "            (intermediate_act_fn): GELUActivation()\n",
       "          )\n",
       "          (output): BertOutput(\n",
       "            (dense): Linear(in_features=3072, out_features=768, bias=True)\n",
       "            (LayerNorm): LayerNorm((768,), eps=1e-12, elementwise_affine=True)\n",
       "            (dropout): Dropout(p=0.1, inplace=False)\n",
       "          )\n",
       "        )\n",
       "      )\n",
       "    )\n",
       "  )\n",
       "  (dropout): Dropout(p=0.1, inplace=False)\n",
       "  (classifier): Linear(in_features=768, out_features=43, bias=True)\n",
       ")"
      ]
     },
     "execution_count": 174,
     "metadata": {},
     "output_type": "execute_result"
    }
   ],
   "source": [
    "bert_model.to(device)"
   ]
  },
  {
   "cell_type": "code",
   "execution_count": 175,
   "id": "d639e291",
   "metadata": {},
   "outputs": [
    {
     "name": "stderr",
     "output_type": "stream",
     "text": [
      "Training: 100%|██████████| 137/137 [00:39<00:00,  3.44it/s]\n",
      "Validation: 100%|██████████| 59/59 [00:04<00:00, 12.36it/s]\n",
      "Epoch:   1%|          | 1/100 [00:44<1:13:32, 44.57s/it]"
     ]
    },
    {
     "name": "stdout",
     "output_type": "stream",
     "text": [
      "Epoch 1/100\n",
      "Training loss: 0.3143\n",
      "Validation loss: 0.0963\n"
     ]
    },
    {
     "name": "stderr",
     "output_type": "stream",
     "text": [
      "Training: 100%|██████████| 137/137 [00:39<00:00,  3.50it/s]\n",
      "Validation: 100%|██████████| 59/59 [00:04<00:00, 12.98it/s]\n",
      "Epoch:   2%|▏         | 2/100 [01:28<1:11:56, 44.05s/it]"
     ]
    },
    {
     "name": "stdout",
     "output_type": "stream",
     "text": [
      "Epoch 2/100\n",
      "Training loss: 0.1068\n",
      "Validation loss: 0.0826\n"
     ]
    },
    {
     "name": "stderr",
     "output_type": "stream",
     "text": [
      "Training: 100%|██████████| 137/137 [00:38<00:00,  3.52it/s]\n",
      "Validation: 100%|██████████| 59/59 [00:04<00:00, 12.96it/s]\n",
      "Epoch:   3%|▎         | 3/100 [02:11<1:10:47, 43.78s/it]"
     ]
    },
    {
     "name": "stdout",
     "output_type": "stream",
     "text": [
      "Epoch 3/100\n",
      "Training loss: 0.0734\n",
      "Validation loss: 0.0683\n"
     ]
    },
    {
     "name": "stderr",
     "output_type": "stream",
     "text": [
      "Training: 100%|██████████| 137/137 [00:39<00:00,  3.48it/s]\n",
      "Validation: 100%|██████████| 59/59 [00:04<00:00, 12.96it/s]\n",
      "Epoch:   4%|▍         | 4/100 [02:55<1:10:09, 43.85s/it]"
     ]
    },
    {
     "name": "stdout",
     "output_type": "stream",
     "text": [
      "Epoch 4/100\n",
      "Training loss: 0.0527\n",
      "Validation loss: 0.0768\n"
     ]
    },
    {
     "name": "stderr",
     "output_type": "stream",
     "text": [
      "Training: 100%|██████████| 137/137 [00:39<00:00,  3.46it/s]\n",
      "Validation: 100%|██████████| 59/59 [00:04<00:00, 12.90it/s]\n",
      "Epoch:   5%|▌         | 5/100 [03:39<1:09:35, 43.96s/it]"
     ]
    },
    {
     "name": "stdout",
     "output_type": "stream",
     "text": [
      "Epoch 5/100\n",
      "Training loss: 0.0428\n",
      "Validation loss: 0.0660\n"
     ]
    },
    {
     "name": "stderr",
     "output_type": "stream",
     "text": [
      "Training: 100%|██████████| 137/137 [00:39<00:00,  3.43it/s]\n",
      "Validation: 100%|██████████| 59/59 [00:04<00:00, 12.33it/s]\n",
      "Epoch:   6%|▌         | 6/100 [04:24<1:09:15, 44.21s/it]"
     ]
    },
    {
     "name": "stdout",
     "output_type": "stream",
     "text": [
      "Epoch 6/100\n",
      "Training loss: 0.0341\n",
      "Validation loss: 0.0742\n"
     ]
    },
    {
     "name": "stderr",
     "output_type": "stream",
     "text": [
      "Training: 100%|██████████| 137/137 [00:38<00:00,  3.55it/s]\n",
      "Validation: 100%|██████████| 59/59 [00:04<00:00, 13.04it/s]\n",
      "Epoch:   7%|▋         | 7/100 [05:07<1:07:59, 43.87s/it]"
     ]
    },
    {
     "name": "stdout",
     "output_type": "stream",
     "text": [
      "Epoch 7/100\n",
      "Training loss: 0.0261\n",
      "Validation loss: 0.0836\n"
     ]
    },
    {
     "name": "stderr",
     "output_type": "stream",
     "text": [
      "Training: 100%|██████████| 137/137 [00:40<00:00,  3.38it/s]\n",
      "Validation: 100%|██████████| 59/59 [00:04<00:00, 12.39it/s]\n",
      "Epoch:   8%|▊         | 8/100 [05:52<1:07:57, 44.32s/it]"
     ]
    },
    {
     "name": "stdout",
     "output_type": "stream",
     "text": [
      "Epoch 8/100\n",
      "Training loss: 0.0218\n",
      "Validation loss: 0.0958\n"
     ]
    },
    {
     "name": "stderr",
     "output_type": "stream",
     "text": [
      "Training: 100%|██████████| 137/137 [00:39<00:00,  3.45it/s]\n",
      "Validation: 100%|██████████| 59/59 [00:04<00:00, 12.81it/s]\n",
      "Epoch:   9%|▉         | 9/100 [06:37<1:07:11, 44.31s/it]"
     ]
    },
    {
     "name": "stdout",
     "output_type": "stream",
     "text": [
      "Epoch 9/100\n",
      "Training loss: 0.0176\n",
      "Validation loss: 0.1043\n"
     ]
    },
    {
     "name": "stderr",
     "output_type": "stream",
     "text": [
      "Training: 100%|██████████| 137/137 [00:41<00:00,  3.33it/s]\n",
      "Validation: 100%|██████████| 59/59 [00:04<00:00, 12.74it/s]\n",
      "Epoch:  10%|█         | 10/100 [07:23<1:07:08, 44.76s/it]"
     ]
    },
    {
     "name": "stdout",
     "output_type": "stream",
     "text": [
      "Epoch 10/100\n",
      "Training loss: 0.0148\n",
      "Validation loss: 0.0972\n"
     ]
    },
    {
     "name": "stderr",
     "output_type": "stream",
     "text": [
      "Training: 100%|██████████| 137/137 [00:38<00:00,  3.56it/s]\n",
      "Validation: 100%|██████████| 59/59 [00:04<00:00, 13.27it/s]\n",
      "Epoch:  11%|█         | 11/100 [08:05<1:05:32, 44.19s/it]"
     ]
    },
    {
     "name": "stdout",
     "output_type": "stream",
     "text": [
      "Epoch 11/100\n",
      "Training loss: 0.0125\n",
      "Validation loss: 0.1070\n"
     ]
    },
    {
     "name": "stderr",
     "output_type": "stream",
     "text": [
      "Training: 100%|██████████| 137/137 [00:39<00:00,  3.49it/s]\n",
      "Validation: 100%|██████████| 59/59 [00:04<00:00, 13.19it/s]\n",
      "Epoch:  12%|█▏        | 12/100 [08:49<1:04:36, 44.05s/it]"
     ]
    },
    {
     "name": "stdout",
     "output_type": "stream",
     "text": [
      "Epoch 12/100\n",
      "Training loss: 0.0106\n",
      "Validation loss: 0.1096\n"
     ]
    },
    {
     "name": "stderr",
     "output_type": "stream",
     "text": [
      "Training: 100%|██████████| 137/137 [00:38<00:00,  3.55it/s]\n",
      "Validation: 100%|██████████| 59/59 [00:04<00:00, 13.17it/s]\n",
      "Epoch:  13%|█▎        | 13/100 [09:32<1:03:25, 43.74s/it]"
     ]
    },
    {
     "name": "stdout",
     "output_type": "stream",
     "text": [
      "Epoch 13/100\n",
      "Training loss: 0.0094\n",
      "Validation loss: 0.1123\n"
     ]
    },
    {
     "name": "stderr",
     "output_type": "stream",
     "text": [
      "Training: 100%|██████████| 137/137 [00:39<00:00,  3.50it/s]\n",
      "Validation: 100%|██████████| 59/59 [00:04<00:00, 12.70it/s]\n",
      "Epoch:  14%|█▍        | 14/100 [10:16<1:02:43, 43.77s/it]"
     ]
    },
    {
     "name": "stdout",
     "output_type": "stream",
     "text": [
      "Epoch 14/100\n",
      "Training loss: 0.0082\n",
      "Validation loss: 0.1158\n"
     ]
    },
    {
     "name": "stderr",
     "output_type": "stream",
     "text": [
      "Training: 100%|██████████| 137/137 [00:38<00:00,  3.53it/s]\n",
      "Validation: 100%|██████████| 59/59 [00:04<00:00, 13.23it/s]\n",
      "Epoch:  15%|█▌        | 15/100 [10:59<1:01:48, 43.63s/it]"
     ]
    },
    {
     "name": "stdout",
     "output_type": "stream",
     "text": [
      "Epoch 15/100\n",
      "Training loss: 0.0078\n",
      "Validation loss: 0.1175\n"
     ]
    },
    {
     "name": "stderr",
     "output_type": "stream",
     "text": [
      "Training: 100%|██████████| 137/137 [00:40<00:00,  3.41it/s]\n",
      "Validation: 100%|██████████| 59/59 [00:04<00:00, 12.45it/s]\n",
      "Epoch:  16%|█▌        | 16/100 [11:44<1:01:38, 44.03s/it]"
     ]
    },
    {
     "name": "stdout",
     "output_type": "stream",
     "text": [
      "Epoch 16/100\n",
      "Training loss: 0.0075\n",
      "Validation loss: 0.1204\n"
     ]
    },
    {
     "name": "stderr",
     "output_type": "stream",
     "text": [
      "Training: 100%|██████████| 137/137 [00:39<00:00,  3.50it/s]\n",
      "Validation: 100%|██████████| 59/59 [00:04<00:00, 12.13it/s]\n",
      "Epoch:  17%|█▋        | 17/100 [12:28<1:00:54, 44.02s/it]"
     ]
    },
    {
     "name": "stdout",
     "output_type": "stream",
     "text": [
      "Epoch 17/100\n",
      "Training loss: 0.0077\n",
      "Validation loss: 0.1181\n"
     ]
    },
    {
     "name": "stderr",
     "output_type": "stream",
     "text": [
      "Training: 100%|██████████| 137/137 [00:39<00:00,  3.47it/s]\n",
      "Validation: 100%|██████████| 59/59 [00:04<00:00, 13.00it/s]\n",
      "Epoch:  18%|█▊        | 18/100 [13:12<1:00:11, 44.04s/it]"
     ]
    },
    {
     "name": "stdout",
     "output_type": "stream",
     "text": [
      "Epoch 18/100\n",
      "Training loss: 0.0070\n",
      "Validation loss: 0.1220\n"
     ]
    },
    {
     "name": "stderr",
     "output_type": "stream",
     "text": [
      "Training: 100%|██████████| 137/137 [00:38<00:00,  3.56it/s]\n",
      "Validation: 100%|██████████| 59/59 [00:04<00:00, 12.95it/s]\n",
      "Epoch:  19%|█▉        | 19/100 [13:55<59:03, 43.75s/it]  "
     ]
    },
    {
     "name": "stdout",
     "output_type": "stream",
     "text": [
      "Epoch 19/100\n",
      "Training loss: 0.0064\n",
      "Validation loss: 0.1258\n"
     ]
    },
    {
     "name": "stderr",
     "output_type": "stream",
     "text": [
      "Training: 100%|██████████| 137/137 [00:39<00:00,  3.50it/s]\n",
      "Validation: 100%|██████████| 59/59 [00:04<00:00, 13.04it/s]\n",
      "Epoch:  20%|██        | 20/100 [14:39<58:16, 43.71s/it]"
     ]
    },
    {
     "name": "stdout",
     "output_type": "stream",
     "text": [
      "Epoch 20/100\n",
      "Training loss: 0.0058\n",
      "Validation loss: 0.1351\n"
     ]
    },
    {
     "name": "stderr",
     "output_type": "stream",
     "text": [
      "Training: 100%|██████████| 137/137 [00:40<00:00,  3.40it/s]\n",
      "Validation: 100%|██████████| 59/59 [00:04<00:00, 12.11it/s]\n",
      "Epoch:  21%|██        | 21/100 [15:24<58:08, 44.15s/it]"
     ]
    },
    {
     "name": "stdout",
     "output_type": "stream",
     "text": [
      "Epoch 21/100\n",
      "Training loss: 0.0062\n",
      "Validation loss: 0.1257\n"
     ]
    },
    {
     "name": "stderr",
     "output_type": "stream",
     "text": [
      "Training: 100%|██████████| 137/137 [00:40<00:00,  3.37it/s]\n",
      "Validation: 100%|██████████| 59/59 [00:04<00:00, 12.22it/s]\n",
      "Epoch:  22%|██▏       | 22/100 [16:10<57:55, 44.56s/it]"
     ]
    },
    {
     "name": "stdout",
     "output_type": "stream",
     "text": [
      "Epoch 22/100\n",
      "Training loss: 0.0059\n",
      "Validation loss: 0.1198\n"
     ]
    },
    {
     "name": "stderr",
     "output_type": "stream",
     "text": [
      "Training: 100%|██████████| 137/137 [00:39<00:00,  3.50it/s]\n",
      "Validation: 100%|██████████| 59/59 [00:04<00:00, 13.12it/s]\n",
      "Epoch:  23%|██▎       | 23/100 [16:53<56:49, 44.28s/it]"
     ]
    },
    {
     "name": "stdout",
     "output_type": "stream",
     "text": [
      "Epoch 23/100\n",
      "Training loss: 0.0057\n",
      "Validation loss: 0.1234\n"
     ]
    },
    {
     "name": "stderr",
     "output_type": "stream",
     "text": [
      "Training: 100%|██████████| 137/137 [00:38<00:00,  3.56it/s]\n",
      "Validation: 100%|██████████| 59/59 [00:04<00:00, 13.04it/s]\n",
      "Epoch:  24%|██▍       | 24/100 [17:36<55:37, 43.91s/it]"
     ]
    },
    {
     "name": "stdout",
     "output_type": "stream",
     "text": [
      "Epoch 24/100\n",
      "Training loss: 0.0051\n",
      "Validation loss: 0.1256\n"
     ]
    },
    {
     "name": "stderr",
     "output_type": "stream",
     "text": [
      "Training: 100%|██████████| 137/137 [00:38<00:00,  3.54it/s]\n",
      "Validation: 100%|██████████| 59/59 [00:04<00:00, 12.51it/s]\n",
      "Epoch:  25%|██▌       | 25/100 [18:20<54:42, 43.77s/it]"
     ]
    },
    {
     "name": "stdout",
     "output_type": "stream",
     "text": [
      "Epoch 25/100\n",
      "Training loss: 0.0058\n",
      "Validation loss: 0.1229\n"
     ]
    },
    {
     "name": "stderr",
     "output_type": "stream",
     "text": [
      "Training: 100%|██████████| 137/137 [00:40<00:00,  3.39it/s]\n",
      "Validation: 100%|██████████| 59/59 [00:04<00:00, 12.31it/s]\n",
      "Epoch:  26%|██▌       | 26/100 [19:05<54:29, 44.18s/it]"
     ]
    },
    {
     "name": "stdout",
     "output_type": "stream",
     "text": [
      "Epoch 26/100\n",
      "Training loss: 0.0050\n",
      "Validation loss: 0.1287\n"
     ]
    },
    {
     "name": "stderr",
     "output_type": "stream",
     "text": [
      "Training: 100%|██████████| 137/137 [00:40<00:00,  3.37it/s]\n",
      "Validation: 100%|██████████| 59/59 [00:04<00:00, 12.35it/s]\n",
      "Epoch:  27%|██▋       | 27/100 [19:51<54:14, 44.58s/it]"
     ]
    },
    {
     "name": "stdout",
     "output_type": "stream",
     "text": [
      "Epoch 27/100\n",
      "Training loss: 0.0046\n",
      "Validation loss: 0.1345\n"
     ]
    },
    {
     "name": "stderr",
     "output_type": "stream",
     "text": [
      "Training: 100%|██████████| 137/137 [00:41<00:00,  3.33it/s]\n",
      "Validation: 100%|██████████| 59/59 [00:04<00:00, 12.86it/s]\n",
      "Epoch:  28%|██▊       | 28/100 [20:36<53:54, 44.92s/it]"
     ]
    },
    {
     "name": "stdout",
     "output_type": "stream",
     "text": [
      "Epoch 28/100\n",
      "Training loss: 0.0050\n",
      "Validation loss: 0.1307\n"
     ]
    },
    {
     "name": "stderr",
     "output_type": "stream",
     "text": [
      "Training: 100%|██████████| 137/137 [00:40<00:00,  3.36it/s]\n",
      "Validation: 100%|██████████| 59/59 [00:04<00:00, 12.23it/s]\n",
      "Epoch:  29%|██▉       | 29/100 [21:22<53:23, 45.13s/it]"
     ]
    },
    {
     "name": "stdout",
     "output_type": "stream",
     "text": [
      "Epoch 29/100\n",
      "Training loss: 0.0050\n",
      "Validation loss: 0.1294\n"
     ]
    },
    {
     "name": "stderr",
     "output_type": "stream",
     "text": [
      "Training: 100%|██████████| 137/137 [00:41<00:00,  3.32it/s]\n",
      "Validation: 100%|██████████| 59/59 [00:04<00:00, 12.27it/s]\n",
      "Epoch:  30%|███       | 30/100 [22:08<52:58, 45.41s/it]"
     ]
    },
    {
     "name": "stdout",
     "output_type": "stream",
     "text": [
      "Epoch 30/100\n",
      "Training loss: 0.0049\n",
      "Validation loss: 0.1399\n"
     ]
    },
    {
     "name": "stderr",
     "output_type": "stream",
     "text": [
      "Training: 100%|██████████| 137/137 [00:39<00:00,  3.45it/s]\n",
      "Validation: 100%|██████████| 59/59 [00:04<00:00, 12.53it/s]\n",
      "Epoch:  31%|███       | 31/100 [22:52<51:51, 45.10s/it]"
     ]
    },
    {
     "name": "stdout",
     "output_type": "stream",
     "text": [
      "Epoch 31/100\n",
      "Training loss: 0.0042\n",
      "Validation loss: 0.1439\n"
     ]
    },
    {
     "name": "stderr",
     "output_type": "stream",
     "text": [
      "Training: 100%|██████████| 137/137 [00:41<00:00,  3.34it/s]\n",
      "Validation: 100%|██████████| 59/59 [00:04<00:00, 12.07it/s]\n",
      "Epoch:  32%|███▏      | 32/100 [23:38<51:23, 45.35s/it]"
     ]
    },
    {
     "name": "stdout",
     "output_type": "stream",
     "text": [
      "Epoch 32/100\n",
      "Training loss: 0.0049\n",
      "Validation loss: 0.1270\n"
     ]
    },
    {
     "name": "stderr",
     "output_type": "stream",
     "text": [
      "Training: 100%|██████████| 137/137 [00:39<00:00,  3.45it/s]\n",
      "Validation: 100%|██████████| 59/59 [00:04<00:00, 12.10it/s]\n",
      "Epoch:  33%|███▎      | 33/100 [24:23<50:22, 45.11s/it]"
     ]
    },
    {
     "name": "stdout",
     "output_type": "stream",
     "text": [
      "Epoch 33/100\n",
      "Training loss: 0.0042\n",
      "Validation loss: 0.1328\n"
     ]
    },
    {
     "name": "stderr",
     "output_type": "stream",
     "text": [
      "Training: 100%|██████████| 137/137 [00:40<00:00,  3.35it/s]\n",
      "Validation: 100%|██████████| 59/59 [00:04<00:00, 12.84it/s]\n",
      "Epoch:  34%|███▍      | 34/100 [25:08<49:45, 45.23s/it]"
     ]
    },
    {
     "name": "stdout",
     "output_type": "stream",
     "text": [
      "Epoch 34/100\n",
      "Training loss: 0.0041\n",
      "Validation loss: 0.1310\n"
     ]
    },
    {
     "name": "stderr",
     "output_type": "stream",
     "text": [
      "Training: 100%|██████████| 137/137 [00:39<00:00,  3.49it/s]\n",
      "Validation: 100%|██████████| 59/59 [00:04<00:00, 12.92it/s]\n",
      "Epoch:  35%|███▌      | 35/100 [25:52<48:32, 44.81s/it]"
     ]
    },
    {
     "name": "stdout",
     "output_type": "stream",
     "text": [
      "Epoch 35/100\n",
      "Training loss: 0.0038\n",
      "Validation loss: 0.1406\n"
     ]
    },
    {
     "name": "stderr",
     "output_type": "stream",
     "text": [
      "Training: 100%|██████████| 137/137 [00:39<00:00,  3.51it/s]\n",
      "Validation: 100%|██████████| 59/59 [00:04<00:00, 12.94it/s]\n",
      "Epoch:  36%|███▌      | 36/100 [26:36<47:25, 44.46s/it]"
     ]
    },
    {
     "name": "stdout",
     "output_type": "stream",
     "text": [
      "Epoch 36/100\n",
      "Training loss: 0.0037\n",
      "Validation loss: 0.1325\n"
     ]
    },
    {
     "name": "stderr",
     "output_type": "stream",
     "text": [
      "Training: 100%|██████████| 137/137 [00:41<00:00,  3.34it/s]\n",
      "Validation: 100%|██████████| 59/59 [00:05<00:00, 11.65it/s]\n",
      "Epoch:  37%|███▋      | 37/100 [27:22<47:11, 44.94s/it]"
     ]
    },
    {
     "name": "stdout",
     "output_type": "stream",
     "text": [
      "Epoch 37/100\n",
      "Training loss: 0.0053\n",
      "Validation loss: 0.1345\n"
     ]
    },
    {
     "name": "stderr",
     "output_type": "stream",
     "text": [
      "Training: 100%|██████████| 137/137 [00:43<00:00,  3.15it/s]\n",
      "Validation: 100%|██████████| 59/59 [00:05<00:00, 11.63it/s]\n",
      "Epoch:  38%|███▊      | 38/100 [28:10<47:34, 46.05s/it]"
     ]
    },
    {
     "name": "stdout",
     "output_type": "stream",
     "text": [
      "Epoch 38/100\n",
      "Training loss: 0.0064\n",
      "Validation loss: 0.1251\n"
     ]
    },
    {
     "name": "stderr",
     "output_type": "stream",
     "text": [
      "Training: 100%|██████████| 137/137 [00:43<00:00,  3.15it/s]\n",
      "Validation: 100%|██████████| 59/59 [00:05<00:00, 11.67it/s]\n",
      "Epoch:  39%|███▉      | 39/100 [28:59<47:34, 46.80s/it]"
     ]
    },
    {
     "name": "stdout",
     "output_type": "stream",
     "text": [
      "Epoch 39/100\n",
      "Training loss: 0.0048\n",
      "Validation loss: 0.1421\n"
     ]
    },
    {
     "name": "stderr",
     "output_type": "stream",
     "text": [
      "Training: 100%|██████████| 137/137 [00:43<00:00,  3.16it/s]\n",
      "Validation: 100%|██████████| 59/59 [00:05<00:00, 11.63it/s]\n",
      "Epoch:  40%|████      | 40/100 [29:47<47:16, 47.28s/it]"
     ]
    },
    {
     "name": "stdout",
     "output_type": "stream",
     "text": [
      "Epoch 40/100\n",
      "Training loss: 0.0055\n",
      "Validation loss: 0.1824\n"
     ]
    },
    {
     "name": "stderr",
     "output_type": "stream",
     "text": [
      "Training: 100%|██████████| 137/137 [00:42<00:00,  3.22it/s]\n",
      "Validation: 100%|██████████| 59/59 [00:04<00:00, 12.79it/s]\n",
      "Epoch:  41%|████      | 41/100 [30:35<46:27, 47.24s/it]"
     ]
    },
    {
     "name": "stdout",
     "output_type": "stream",
     "text": [
      "Epoch 41/100\n",
      "Training loss: 0.0043\n",
      "Validation loss: 0.1408\n"
     ]
    },
    {
     "name": "stderr",
     "output_type": "stream",
     "text": [
      "Training: 100%|██████████| 137/137 [00:38<00:00,  3.59it/s]\n",
      "Validation: 100%|██████████| 59/59 [00:04<00:00, 13.33it/s]\n",
      "Epoch:  42%|████▏     | 42/100 [31:17<44:18, 45.83s/it]"
     ]
    },
    {
     "name": "stdout",
     "output_type": "stream",
     "text": [
      "Epoch 42/100\n",
      "Training loss: 0.0039\n",
      "Validation loss: 0.1422\n"
     ]
    },
    {
     "name": "stderr",
     "output_type": "stream",
     "text": [
      "Training: 100%|██████████| 137/137 [00:38<00:00,  3.60it/s]\n",
      "Validation: 100%|██████████| 59/59 [00:04<00:00, 13.43it/s]\n",
      "Epoch:  43%|████▎     | 43/100 [32:00<42:34, 44.81s/it]"
     ]
    },
    {
     "name": "stdout",
     "output_type": "stream",
     "text": [
      "Epoch 43/100\n",
      "Training loss: 0.0034\n",
      "Validation loss: 0.1429\n"
     ]
    },
    {
     "name": "stderr",
     "output_type": "stream",
     "text": [
      "Training: 100%|██████████| 137/137 [00:38<00:00,  3.60it/s]\n",
      "Validation: 100%|██████████| 59/59 [00:04<00:00, 13.37it/s]\n",
      "Epoch:  44%|████▍     | 44/100 [32:42<41:10, 44.11s/it]"
     ]
    },
    {
     "name": "stdout",
     "output_type": "stream",
     "text": [
      "Epoch 44/100\n",
      "Training loss: 0.0033\n",
      "Validation loss: 0.1473\n"
     ]
    },
    {
     "name": "stderr",
     "output_type": "stream",
     "text": [
      "Training: 100%|██████████| 137/137 [00:38<00:00,  3.59it/s]\n",
      "Validation: 100%|██████████| 59/59 [00:04<00:00, 13.40it/s]\n",
      "Epoch:  45%|████▌     | 45/100 [33:25<40:00, 43.64s/it]"
     ]
    },
    {
     "name": "stdout",
     "output_type": "stream",
     "text": [
      "Epoch 45/100\n",
      "Training loss: 0.0036\n",
      "Validation loss: 0.1467\n"
     ]
    },
    {
     "name": "stderr",
     "output_type": "stream",
     "text": [
      "Training: 100%|██████████| 137/137 [00:37<00:00,  3.61it/s]\n",
      "Validation: 100%|██████████| 59/59 [00:04<00:00, 13.40it/s]\n",
      "Epoch:  46%|████▌     | 46/100 [34:07<38:55, 43.26s/it]"
     ]
    },
    {
     "name": "stdout",
     "output_type": "stream",
     "text": [
      "Epoch 46/100\n",
      "Training loss: 0.0037\n",
      "Validation loss: 0.1387\n"
     ]
    },
    {
     "name": "stderr",
     "output_type": "stream",
     "text": [
      "Training: 100%|██████████| 137/137 [00:37<00:00,  3.62it/s]\n",
      "Validation: 100%|██████████| 59/59 [00:04<00:00, 13.45it/s]\n",
      "Epoch:  47%|████▋     | 47/100 [34:49<37:56, 42.96s/it]"
     ]
    },
    {
     "name": "stdout",
     "output_type": "stream",
     "text": [
      "Epoch 47/100\n",
      "Training loss: 0.0041\n",
      "Validation loss: 0.1363\n"
     ]
    },
    {
     "name": "stderr",
     "output_type": "stream",
     "text": [
      "Training: 100%|██████████| 137/137 [00:37<00:00,  3.61it/s]\n",
      "Validation: 100%|██████████| 59/59 [00:04<00:00, 13.48it/s]\n",
      "Epoch:  48%|████▊     | 48/100 [35:32<37:04, 42.78s/it]"
     ]
    },
    {
     "name": "stdout",
     "output_type": "stream",
     "text": [
      "Epoch 48/100\n",
      "Training loss: 0.0036\n",
      "Validation loss: 0.1380\n"
     ]
    },
    {
     "name": "stderr",
     "output_type": "stream",
     "text": [
      "Training: 100%|██████████| 137/137 [00:38<00:00,  3.56it/s]\n",
      "Validation: 100%|██████████| 59/59 [00:04<00:00, 13.43it/s]\n",
      "Epoch:  49%|████▉     | 49/100 [36:14<36:24, 42.83s/it]"
     ]
    },
    {
     "name": "stdout",
     "output_type": "stream",
     "text": [
      "Epoch 49/100\n",
      "Training loss: 0.0041\n",
      "Validation loss: 0.1407\n"
     ]
    },
    {
     "name": "stderr",
     "output_type": "stream",
     "text": [
      "Training: 100%|██████████| 137/137 [00:37<00:00,  3.61it/s]\n",
      "Validation: 100%|██████████| 59/59 [00:04<00:00, 13.36it/s]\n",
      "Epoch:  50%|█████     | 50/100 [36:57<35:34, 42.69s/it]"
     ]
    },
    {
     "name": "stdout",
     "output_type": "stream",
     "text": [
      "Epoch 50/100\n",
      "Training loss: 0.0041\n",
      "Validation loss: 0.1427\n"
     ]
    },
    {
     "name": "stderr",
     "output_type": "stream",
     "text": [
      "Training: 100%|██████████| 137/137 [00:37<00:00,  3.62it/s]\n",
      "Validation: 100%|██████████| 59/59 [00:04<00:00, 13.38it/s]\n",
      "Epoch:  51%|█████     | 51/100 [37:39<34:45, 42.56s/it]"
     ]
    },
    {
     "name": "stdout",
     "output_type": "stream",
     "text": [
      "Epoch 51/100\n",
      "Training loss: 0.0037\n",
      "Validation loss: 0.1446\n"
     ]
    },
    {
     "name": "stderr",
     "output_type": "stream",
     "text": [
      "Training: 100%|██████████| 137/137 [00:37<00:00,  3.61it/s]\n",
      "Validation: 100%|██████████| 59/59 [00:04<00:00, 13.38it/s]\n",
      "Epoch:  52%|█████▏    | 52/100 [38:22<34:00, 42.51s/it]"
     ]
    },
    {
     "name": "stdout",
     "output_type": "stream",
     "text": [
      "Epoch 52/100\n",
      "Training loss: 0.0039\n",
      "Validation loss: 0.1364\n"
     ]
    },
    {
     "name": "stderr",
     "output_type": "stream",
     "text": [
      "Training: 100%|██████████| 137/137 [00:37<00:00,  3.62it/s]\n",
      "Validation: 100%|██████████| 59/59 [00:04<00:00, 13.43it/s]\n",
      "Epoch:  53%|█████▎    | 53/100 [39:04<33:14, 42.44s/it]"
     ]
    },
    {
     "name": "stdout",
     "output_type": "stream",
     "text": [
      "Epoch 53/100\n",
      "Training loss: 0.0037\n",
      "Validation loss: 0.1417\n"
     ]
    },
    {
     "name": "stderr",
     "output_type": "stream",
     "text": [
      "Training: 100%|██████████| 137/137 [00:37<00:00,  3.62it/s]\n",
      "Validation: 100%|██████████| 59/59 [00:04<00:00, 13.51it/s]\n",
      "Epoch:  54%|█████▍    | 54/100 [39:46<32:28, 42.36s/it]"
     ]
    },
    {
     "name": "stdout",
     "output_type": "stream",
     "text": [
      "Epoch 54/100\n",
      "Training loss: 0.0049\n",
      "Validation loss: 0.1378\n"
     ]
    },
    {
     "name": "stderr",
     "output_type": "stream",
     "text": [
      "Training: 100%|██████████| 137/137 [00:37<00:00,  3.61it/s]\n",
      "Validation: 100%|██████████| 59/59 [00:04<00:00, 13.42it/s]\n",
      "Epoch:  55%|█████▌    | 55/100 [40:28<31:46, 42.36s/it]"
     ]
    },
    {
     "name": "stdout",
     "output_type": "stream",
     "text": [
      "Epoch 55/100\n",
      "Training loss: 0.0039\n",
      "Validation loss: 0.1381\n"
     ]
    },
    {
     "name": "stderr",
     "output_type": "stream",
     "text": [
      "Training: 100%|██████████| 137/137 [00:37<00:00,  3.62it/s]\n",
      "Validation: 100%|██████████| 59/59 [00:04<00:00, 13.51it/s]\n",
      "Epoch:  56%|█████▌    | 56/100 [41:11<31:02, 42.32s/it]"
     ]
    },
    {
     "name": "stdout",
     "output_type": "stream",
     "text": [
      "Epoch 56/100\n",
      "Training loss: 0.0036\n",
      "Validation loss: 0.1470\n"
     ]
    },
    {
     "name": "stderr",
     "output_type": "stream",
     "text": [
      "Training: 100%|██████████| 137/137 [00:38<00:00,  3.56it/s]\n",
      "Validation: 100%|██████████| 59/59 [00:04<00:00, 13.42it/s]\n",
      "Epoch:  57%|█████▋    | 57/100 [41:53<30:26, 42.48s/it]"
     ]
    },
    {
     "name": "stdout",
     "output_type": "stream",
     "text": [
      "Epoch 57/100\n",
      "Training loss: 0.0035\n",
      "Validation loss: 0.1440\n"
     ]
    },
    {
     "name": "stderr",
     "output_type": "stream",
     "text": [
      "Training: 100%|██████████| 137/137 [00:37<00:00,  3.62it/s]\n",
      "Validation: 100%|██████████| 59/59 [00:04<00:00, 13.38it/s]\n",
      "Epoch:  58%|█████▊    | 58/100 [42:36<29:41, 42.43s/it]"
     ]
    },
    {
     "name": "stdout",
     "output_type": "stream",
     "text": [
      "Epoch 58/100\n",
      "Training loss: 0.0035\n",
      "Validation loss: 0.1545\n"
     ]
    },
    {
     "name": "stderr",
     "output_type": "stream",
     "text": [
      "Training: 100%|██████████| 137/137 [00:37<00:00,  3.63it/s]\n",
      "Validation: 100%|██████████| 59/59 [00:04<00:00, 13.52it/s]\n",
      "Epoch:  59%|█████▉    | 59/100 [43:18<28:56, 42.34s/it]"
     ]
    },
    {
     "name": "stdout",
     "output_type": "stream",
     "text": [
      "Epoch 59/100\n",
      "Training loss: 0.0036\n",
      "Validation loss: 0.1480\n"
     ]
    },
    {
     "name": "stderr",
     "output_type": "stream",
     "text": [
      "Training: 100%|██████████| 137/137 [00:37<00:00,  3.61it/s]\n",
      "Validation: 100%|██████████| 59/59 [00:04<00:00, 13.39it/s]\n",
      "Epoch:  60%|██████    | 60/100 [44:00<28:13, 42.35s/it]"
     ]
    },
    {
     "name": "stdout",
     "output_type": "stream",
     "text": [
      "Epoch 60/100\n",
      "Training loss: 0.0034\n",
      "Validation loss: 0.1433\n"
     ]
    },
    {
     "name": "stderr",
     "output_type": "stream",
     "text": [
      "Training: 100%|██████████| 137/137 [00:37<00:00,  3.62it/s]\n",
      "Validation: 100%|██████████| 59/59 [00:04<00:00, 13.36it/s]\n",
      "Epoch:  61%|██████    | 61/100 [44:43<27:31, 42.33s/it]"
     ]
    },
    {
     "name": "stdout",
     "output_type": "stream",
     "text": [
      "Epoch 61/100\n",
      "Training loss: 0.0037\n",
      "Validation loss: 0.1324\n"
     ]
    },
    {
     "name": "stderr",
     "output_type": "stream",
     "text": [
      "Training: 100%|██████████| 137/137 [00:37<00:00,  3.61it/s]\n",
      "Validation: 100%|██████████| 59/59 [00:04<00:00, 13.45it/s]\n",
      "Epoch:  62%|██████▏   | 62/100 [45:25<26:49, 42.35s/it]"
     ]
    },
    {
     "name": "stdout",
     "output_type": "stream",
     "text": [
      "Epoch 62/100\n",
      "Training loss: 0.0036\n",
      "Validation loss: 0.1299\n"
     ]
    },
    {
     "name": "stderr",
     "output_type": "stream",
     "text": [
      "Training: 100%|██████████| 137/137 [00:37<00:00,  3.61it/s]\n",
      "Validation: 100%|██████████| 59/59 [00:04<00:00, 13.46it/s]\n",
      "Epoch:  63%|██████▎   | 63/100 [46:07<26:07, 42.35s/it]"
     ]
    },
    {
     "name": "stdout",
     "output_type": "stream",
     "text": [
      "Epoch 63/100\n",
      "Training loss: 0.0077\n",
      "Validation loss: 0.1382\n"
     ]
    },
    {
     "name": "stderr",
     "output_type": "stream",
     "text": [
      "Training: 100%|██████████| 137/137 [00:37<00:00,  3.61it/s]\n",
      "Validation: 100%|██████████| 59/59 [00:04<00:00, 13.46it/s]\n",
      "Epoch:  64%|██████▍   | 64/100 [46:50<25:24, 42.35s/it]"
     ]
    },
    {
     "name": "stdout",
     "output_type": "stream",
     "text": [
      "Epoch 64/100\n",
      "Training loss: 0.0058\n",
      "Validation loss: 0.1348\n"
     ]
    },
    {
     "name": "stderr",
     "output_type": "stream",
     "text": [
      "Training: 100%|██████████| 137/137 [00:37<00:00,  3.61it/s]\n",
      "Validation: 100%|██████████| 59/59 [00:04<00:00, 13.47it/s]\n",
      "Epoch:  65%|██████▌   | 65/100 [47:32<24:42, 42.35s/it]"
     ]
    },
    {
     "name": "stdout",
     "output_type": "stream",
     "text": [
      "Epoch 65/100\n",
      "Training loss: 0.0056\n",
      "Validation loss: 0.1235\n"
     ]
    },
    {
     "name": "stderr",
     "output_type": "stream",
     "text": [
      "Training: 100%|██████████| 137/137 [00:38<00:00,  3.60it/s]\n",
      "Validation: 100%|██████████| 59/59 [00:04<00:00, 13.45it/s]\n",
      "Epoch:  66%|██████▌   | 66/100 [48:14<24:00, 42.37s/it]"
     ]
    },
    {
     "name": "stdout",
     "output_type": "stream",
     "text": [
      "Epoch 66/100\n",
      "Training loss: 0.0040\n",
      "Validation loss: 0.1342\n"
     ]
    },
    {
     "name": "stderr",
     "output_type": "stream",
     "text": [
      "Training: 100%|██████████| 137/137 [00:38<00:00,  3.57it/s]\n",
      "Validation: 100%|██████████| 59/59 [00:04<00:00, 13.14it/s]\n",
      "Epoch:  67%|██████▋   | 67/100 [48:57<23:22, 42.51s/it]"
     ]
    },
    {
     "name": "stdout",
     "output_type": "stream",
     "text": [
      "Epoch 67/100\n",
      "Training loss: 0.0042\n",
      "Validation loss: 0.1218\n"
     ]
    },
    {
     "name": "stderr",
     "output_type": "stream",
     "text": [
      "Training: 100%|██████████| 137/137 [00:37<00:00,  3.61it/s]\n",
      "Validation: 100%|██████████| 59/59 [00:04<00:00, 13.38it/s]\n",
      "Epoch:  68%|██████▊   | 68/100 [49:40<22:39, 42.47s/it]"
     ]
    },
    {
     "name": "stdout",
     "output_type": "stream",
     "text": [
      "Epoch 68/100\n",
      "Training loss: 0.0033\n",
      "Validation loss: 0.1366\n"
     ]
    },
    {
     "name": "stderr",
     "output_type": "stream",
     "text": [
      "Training: 100%|██████████| 137/137 [00:38<00:00,  3.58it/s]\n",
      "Validation: 100%|██████████| 59/59 [00:04<00:00, 13.03it/s]\n",
      "Epoch:  69%|██████▉   | 69/100 [50:22<22:00, 42.58s/it]"
     ]
    },
    {
     "name": "stdout",
     "output_type": "stream",
     "text": [
      "Epoch 69/100\n",
      "Training loss: 0.0034\n",
      "Validation loss: 0.1355\n"
     ]
    },
    {
     "name": "stderr",
     "output_type": "stream",
     "text": [
      "Training: 100%|██████████| 137/137 [00:38<00:00,  3.59it/s]\n",
      "Validation: 100%|██████████| 59/59 [00:04<00:00, 13.43it/s]\n",
      "Epoch:  70%|███████   | 70/100 [51:05<21:16, 42.56s/it]"
     ]
    },
    {
     "name": "stdout",
     "output_type": "stream",
     "text": [
      "Epoch 70/100\n",
      "Training loss: 0.0035\n",
      "Validation loss: 0.1506\n"
     ]
    },
    {
     "name": "stderr",
     "output_type": "stream",
     "text": [
      "Training: 100%|██████████| 137/137 [00:39<00:00,  3.50it/s]\n",
      "Validation: 100%|██████████| 59/59 [00:04<00:00, 13.31it/s]\n",
      "Epoch:  71%|███████   | 71/100 [51:49<20:43, 42.87s/it]"
     ]
    },
    {
     "name": "stdout",
     "output_type": "stream",
     "text": [
      "Epoch 71/100\n",
      "Training loss: 0.0033\n",
      "Validation loss: 0.1429\n"
     ]
    },
    {
     "name": "stderr",
     "output_type": "stream",
     "text": [
      "Training: 100%|██████████| 137/137 [00:38<00:00,  3.60it/s]\n",
      "Validation: 100%|██████████| 59/59 [00:04<00:00, 13.44it/s]\n",
      "Epoch:  72%|███████▏  | 72/100 [52:31<19:57, 42.76s/it]"
     ]
    },
    {
     "name": "stdout",
     "output_type": "stream",
     "text": [
      "Epoch 72/100\n",
      "Training loss: 0.0033\n",
      "Validation loss: 0.1415\n"
     ]
    },
    {
     "name": "stderr",
     "output_type": "stream",
     "text": [
      "Training: 100%|██████████| 137/137 [00:37<00:00,  3.61it/s]\n",
      "Validation: 100%|██████████| 59/59 [00:04<00:00, 13.45it/s]\n",
      "Epoch:  73%|███████▎  | 73/100 [53:13<19:10, 42.62s/it]"
     ]
    },
    {
     "name": "stdout",
     "output_type": "stream",
     "text": [
      "Epoch 73/100\n",
      "Training loss: 0.0033\n",
      "Validation loss: 0.1374\n"
     ]
    },
    {
     "name": "stderr",
     "output_type": "stream",
     "text": [
      "Training: 100%|██████████| 137/137 [00:38<00:00,  3.59it/s]\n",
      "Validation: 100%|██████████| 59/59 [00:04<00:00, 12.73it/s]\n",
      "Epoch:  74%|███████▍  | 74/100 [53:56<18:29, 42.69s/it]"
     ]
    },
    {
     "name": "stdout",
     "output_type": "stream",
     "text": [
      "Epoch 74/100\n",
      "Training loss: 0.0031\n",
      "Validation loss: 0.1412\n"
     ]
    },
    {
     "name": "stderr",
     "output_type": "stream",
     "text": [
      "Training: 100%|██████████| 137/137 [00:38<00:00,  3.60it/s]\n",
      "Validation: 100%|██████████| 59/59 [00:04<00:00, 13.43it/s]\n",
      "Epoch:  75%|███████▌  | 75/100 [54:39<17:45, 42.63s/it]"
     ]
    },
    {
     "name": "stdout",
     "output_type": "stream",
     "text": [
      "Epoch 75/100\n",
      "Training loss: 0.0031\n",
      "Validation loss: 0.1396\n"
     ]
    },
    {
     "name": "stderr",
     "output_type": "stream",
     "text": [
      "Training: 100%|██████████| 137/137 [00:37<00:00,  3.61it/s]\n",
      "Validation: 100%|██████████| 59/59 [00:04<00:00, 13.38it/s]\n",
      "Epoch:  76%|███████▌  | 76/100 [55:21<17:01, 42.56s/it]"
     ]
    },
    {
     "name": "stdout",
     "output_type": "stream",
     "text": [
      "Epoch 76/100\n",
      "Training loss: 0.0033\n",
      "Validation loss: 0.1435\n"
     ]
    },
    {
     "name": "stderr",
     "output_type": "stream",
     "text": [
      "Training: 100%|██████████| 137/137 [00:37<00:00,  3.61it/s]\n",
      "Validation: 100%|██████████| 59/59 [00:04<00:00, 13.48it/s]\n",
      "Epoch:  77%|███████▋  | 77/100 [56:03<16:16, 42.48s/it]"
     ]
    },
    {
     "name": "stdout",
     "output_type": "stream",
     "text": [
      "Epoch 77/100\n",
      "Training loss: 0.0031\n",
      "Validation loss: 0.1459\n"
     ]
    },
    {
     "name": "stderr",
     "output_type": "stream",
     "text": [
      "Training: 100%|██████████| 137/137 [00:37<00:00,  3.64it/s]\n",
      "Validation: 100%|██████████| 59/59 [00:04<00:00, 13.52it/s]\n",
      "Epoch:  78%|███████▊  | 78/100 [56:45<15:31, 42.33s/it]"
     ]
    },
    {
     "name": "stdout",
     "output_type": "stream",
     "text": [
      "Epoch 78/100\n",
      "Training loss: 0.0032\n",
      "Validation loss: 0.1509\n"
     ]
    },
    {
     "name": "stderr",
     "output_type": "stream",
     "text": [
      "Training: 100%|██████████| 137/137 [00:37<00:00,  3.62it/s]\n",
      "Validation: 100%|██████████| 59/59 [00:04<00:00, 13.49it/s]\n",
      "Epoch:  79%|███████▉  | 79/100 [57:28<14:48, 42.30s/it]"
     ]
    },
    {
     "name": "stdout",
     "output_type": "stream",
     "text": [
      "Epoch 79/100\n",
      "Training loss: 0.0038\n",
      "Validation loss: 0.1497\n"
     ]
    },
    {
     "name": "stderr",
     "output_type": "stream",
     "text": [
      "Training: 100%|██████████| 137/137 [00:37<00:00,  3.64it/s]\n",
      "Validation: 100%|██████████| 59/59 [00:04<00:00, 13.59it/s]\n",
      "Epoch:  80%|████████  | 80/100 [58:10<14:03, 42.20s/it]"
     ]
    },
    {
     "name": "stdout",
     "output_type": "stream",
     "text": [
      "Epoch 80/100\n",
      "Training loss: 0.0039\n",
      "Validation loss: 0.1392\n"
     ]
    },
    {
     "name": "stderr",
     "output_type": "stream",
     "text": [
      "Training: 100%|██████████| 137/137 [00:37<00:00,  3.61it/s]\n",
      "Validation: 100%|██████████| 59/59 [00:04<00:00, 13.48it/s]\n",
      "Epoch:  81%|████████  | 81/100 [58:52<13:22, 42.23s/it]"
     ]
    },
    {
     "name": "stdout",
     "output_type": "stream",
     "text": [
      "Epoch 81/100\n",
      "Training loss: 0.0041\n",
      "Validation loss: 0.1419\n"
     ]
    },
    {
     "name": "stderr",
     "output_type": "stream",
     "text": [
      "Training: 100%|██████████| 137/137 [00:37<00:00,  3.63it/s]\n",
      "Validation: 100%|██████████| 59/59 [00:04<00:00, 13.52it/s]\n",
      "Epoch:  82%|████████▏ | 82/100 [59:34<12:39, 42.20s/it]"
     ]
    },
    {
     "name": "stdout",
     "output_type": "stream",
     "text": [
      "Epoch 82/100\n",
      "Training loss: 0.0039\n",
      "Validation loss: 0.1328\n"
     ]
    },
    {
     "name": "stderr",
     "output_type": "stream",
     "text": [
      "Training: 100%|██████████| 137/137 [00:37<00:00,  3.61it/s]\n",
      "Validation: 100%|██████████| 59/59 [00:04<00:00, 13.44it/s]\n",
      "Epoch:  83%|████████▎ | 83/100 [1:00:16<11:58, 42.26s/it]"
     ]
    },
    {
     "name": "stdout",
     "output_type": "stream",
     "text": [
      "Epoch 83/100\n",
      "Training loss: 0.0037\n",
      "Validation loss: 0.1593\n"
     ]
    },
    {
     "name": "stderr",
     "output_type": "stream",
     "text": [
      "Training: 100%|██████████| 137/137 [00:37<00:00,  3.62it/s]\n",
      "Validation: 100%|██████████| 59/59 [00:04<00:00, 13.48it/s]\n",
      "Epoch:  84%|████████▍ | 84/100 [1:00:59<11:16, 42.26s/it]"
     ]
    },
    {
     "name": "stdout",
     "output_type": "stream",
     "text": [
      "Epoch 84/100\n",
      "Training loss: 0.0035\n",
      "Validation loss: 0.1439\n"
     ]
    },
    {
     "name": "stderr",
     "output_type": "stream",
     "text": [
      "Training: 100%|██████████| 137/137 [00:37<00:00,  3.62it/s]\n",
      "Validation: 100%|██████████| 59/59 [00:04<00:00, 13.44it/s]\n",
      "Epoch:  85%|████████▌ | 85/100 [1:01:41<10:33, 42.25s/it]"
     ]
    },
    {
     "name": "stdout",
     "output_type": "stream",
     "text": [
      "Epoch 85/100\n",
      "Training loss: 0.0038\n",
      "Validation loss: 0.1432\n"
     ]
    },
    {
     "name": "stderr",
     "output_type": "stream",
     "text": [
      "Training: 100%|██████████| 137/137 [00:37<00:00,  3.61it/s]\n",
      "Validation: 100%|██████████| 59/59 [00:04<00:00, 13.40it/s]\n",
      "Epoch:  86%|████████▌ | 86/100 [1:02:23<09:52, 42.29s/it]"
     ]
    },
    {
     "name": "stdout",
     "output_type": "stream",
     "text": [
      "Epoch 86/100\n",
      "Training loss: 0.0059\n",
      "Validation loss: 0.1474\n"
     ]
    },
    {
     "name": "stderr",
     "output_type": "stream",
     "text": [
      "Training: 100%|██████████| 137/137 [00:37<00:00,  3.62it/s]\n",
      "Validation: 100%|██████████| 59/59 [00:04<00:00, 13.51it/s]\n",
      "Epoch:  87%|████████▋ | 87/100 [1:03:05<09:09, 42.27s/it]"
     ]
    },
    {
     "name": "stdout",
     "output_type": "stream",
     "text": [
      "Epoch 87/100\n",
      "Training loss: 0.0045\n",
      "Validation loss: 0.1439\n"
     ]
    },
    {
     "name": "stderr",
     "output_type": "stream",
     "text": [
      "Training: 100%|██████████| 137/137 [00:37<00:00,  3.62it/s]\n",
      "Validation: 100%|██████████| 59/59 [00:04<00:00, 13.46it/s]\n",
      "Epoch:  88%|████████▊ | 88/100 [1:03:48<08:27, 42.26s/it]"
     ]
    },
    {
     "name": "stdout",
     "output_type": "stream",
     "text": [
      "Epoch 88/100\n",
      "Training loss: 0.0036\n",
      "Validation loss: 0.1385\n"
     ]
    },
    {
     "name": "stderr",
     "output_type": "stream",
     "text": [
      "Training: 100%|██████████| 137/137 [00:38<00:00,  3.55it/s]\n",
      "Validation: 100%|██████████| 59/59 [00:04<00:00, 13.36it/s]\n",
      "Epoch:  89%|████████▉ | 89/100 [1:04:31<07:47, 42.49s/it]"
     ]
    },
    {
     "name": "stdout",
     "output_type": "stream",
     "text": [
      "Epoch 89/100\n",
      "Training loss: 0.0034\n",
      "Validation loss: 0.1372\n"
     ]
    },
    {
     "name": "stderr",
     "output_type": "stream",
     "text": [
      "Training: 100%|██████████| 137/137 [00:38<00:00,  3.60it/s]\n",
      "Validation: 100%|██████████| 59/59 [00:04<00:00, 13.38it/s]\n",
      "Epoch:  90%|█████████ | 90/100 [1:05:13<07:04, 42.49s/it]"
     ]
    },
    {
     "name": "stdout",
     "output_type": "stream",
     "text": [
      "Epoch 90/100\n",
      "Training loss: 0.0033\n",
      "Validation loss: 0.1461\n"
     ]
    },
    {
     "name": "stderr",
     "output_type": "stream",
     "text": [
      "Training: 100%|██████████| 137/137 [00:37<00:00,  3.61it/s]\n",
      "Validation: 100%|██████████| 59/59 [00:04<00:00, 13.42it/s]\n",
      "Epoch:  91%|█████████ | 91/100 [1:05:56<06:21, 42.44s/it]"
     ]
    },
    {
     "name": "stdout",
     "output_type": "stream",
     "text": [
      "Epoch 91/100\n",
      "Training loss: 0.0032\n",
      "Validation loss: 0.1449\n"
     ]
    },
    {
     "name": "stderr",
     "output_type": "stream",
     "text": [
      "Training: 100%|██████████| 137/137 [00:37<00:00,  3.61it/s]\n",
      "Validation: 100%|██████████| 59/59 [00:04<00:00, 13.39it/s]\n",
      "Epoch:  92%|█████████▏| 92/100 [1:06:38<05:39, 42.41s/it]"
     ]
    },
    {
     "name": "stdout",
     "output_type": "stream",
     "text": [
      "Epoch 92/100\n",
      "Training loss: 0.0033\n",
      "Validation loss: 0.1446\n"
     ]
    },
    {
     "name": "stderr",
     "output_type": "stream",
     "text": [
      "Training: 100%|██████████| 137/137 [00:38<00:00,  3.60it/s]\n",
      "Validation: 100%|██████████| 59/59 [00:04<00:00, 13.42it/s]\n",
      "Epoch:  93%|█████████▎| 93/100 [1:07:20<04:56, 42.42s/it]"
     ]
    },
    {
     "name": "stdout",
     "output_type": "stream",
     "text": [
      "Epoch 93/100\n",
      "Training loss: 0.0033\n",
      "Validation loss: 0.1504\n"
     ]
    },
    {
     "name": "stderr",
     "output_type": "stream",
     "text": [
      "Training: 100%|██████████| 137/137 [00:38<00:00,  3.60it/s]\n",
      "Validation: 100%|██████████| 59/59 [00:04<00:00, 13.47it/s]\n",
      "Epoch:  94%|█████████▍| 94/100 [1:08:03<04:14, 42.41s/it]"
     ]
    },
    {
     "name": "stdout",
     "output_type": "stream",
     "text": [
      "Epoch 94/100\n",
      "Training loss: 0.0033\n",
      "Validation loss: 0.1468\n"
     ]
    },
    {
     "name": "stderr",
     "output_type": "stream",
     "text": [
      "Training: 100%|██████████| 137/137 [00:38<00:00,  3.59it/s]\n",
      "Validation: 100%|██████████| 59/59 [00:04<00:00, 13.36it/s]\n",
      "Epoch:  95%|█████████▌| 95/100 [1:08:45<03:32, 42.46s/it]"
     ]
    },
    {
     "name": "stdout",
     "output_type": "stream",
     "text": [
      "Epoch 95/100\n",
      "Training loss: 0.0033\n",
      "Validation loss: 0.1505\n"
     ]
    },
    {
     "name": "stderr",
     "output_type": "stream",
     "text": [
      "Training: 100%|██████████| 137/137 [00:38<00:00,  3.59it/s]\n",
      "Validation: 100%|██████████| 59/59 [00:04<00:00, 12.67it/s]\n",
      "Epoch:  96%|█████████▌| 96/100 [1:09:28<02:50, 42.57s/it]"
     ]
    },
    {
     "name": "stdout",
     "output_type": "stream",
     "text": [
      "Epoch 96/100\n",
      "Training loss: 0.0035\n",
      "Validation loss: 0.1476\n"
     ]
    },
    {
     "name": "stderr",
     "output_type": "stream",
     "text": [
      "Training: 100%|██████████| 137/137 [00:38<00:00,  3.56it/s]\n",
      "Validation: 100%|██████████| 59/59 [00:04<00:00, 12.65it/s]\n",
      "Epoch:  97%|█████████▋| 97/100 [1:10:11<02:08, 42.74s/it]"
     ]
    },
    {
     "name": "stdout",
     "output_type": "stream",
     "text": [
      "Epoch 97/100\n",
      "Training loss: 0.0063\n",
      "Validation loss: 0.1420\n"
     ]
    },
    {
     "name": "stderr",
     "output_type": "stream",
     "text": [
      "Training: 100%|██████████| 137/137 [00:39<00:00,  3.43it/s]\n",
      "Validation: 100%|██████████| 59/59 [00:04<00:00, 12.66it/s]\n",
      "Epoch:  98%|█████████▊| 98/100 [1:10:56<01:26, 43.31s/it]"
     ]
    },
    {
     "name": "stdout",
     "output_type": "stream",
     "text": [
      "Epoch 98/100\n",
      "Training loss: 0.0037\n",
      "Validation loss: 0.1359\n"
     ]
    },
    {
     "name": "stderr",
     "output_type": "stream",
     "text": [
      "Training: 100%|██████████| 137/137 [00:39<00:00,  3.47it/s]\n",
      "Validation: 100%|██████████| 59/59 [00:04<00:00, 12.75it/s]\n",
      "Epoch:  99%|█████████▉| 99/100 [1:11:40<00:43, 43.55s/it]"
     ]
    },
    {
     "name": "stdout",
     "output_type": "stream",
     "text": [
      "Epoch 99/100\n",
      "Training loss: 0.0038\n",
      "Validation loss: 0.1370\n"
     ]
    },
    {
     "name": "stderr",
     "output_type": "stream",
     "text": [
      "Training: 100%|██████████| 137/137 [00:39<00:00,  3.48it/s]\n",
      "Validation: 100%|██████████| 59/59 [00:04<00:00, 12.67it/s]\n",
      "Epoch: 100%|██████████| 100/100 [1:12:24<00:00, 43.44s/it]"
     ]
    },
    {
     "name": "stdout",
     "output_type": "stream",
     "text": [
      "Epoch 100/100\n",
      "Training loss: 0.0034\n",
      "Validation loss: 0.1420\n"
     ]
    },
    {
     "name": "stderr",
     "output_type": "stream",
     "text": [
      "\n"
     ]
    }
   ],
   "source": [
    "# Set training parameters\n",
    "epochs = 100\n",
    "max_grad_norm = 1.0\n",
    "\n",
    "# Prepare optimizer\n",
    "optimizer = AdamW(bert_model.parameters(), lr=3e-5)\n",
    "\n",
    "# Lists to store losses for visualization\n",
    "train_losses = []\n",
    "val_losses = []\n",
    "\n",
    "# Training loop\n",
    "for epoch in trange(epochs, desc='Epoch'):\n",
    "    # Training\n",
    "    bert_model.train()\n",
    "    tr_loss = 0\n",
    "    nb_tr_examples, nb_tr_steps = 0, 0\n",
    "    \n",
    "    for step, batch in enumerate(tqdm(train_dataloader, desc=\"Training\")):\n",
    "        # Add batch to GPU\n",
    "        batch = tuple(t.to(device) for t in batch)\n",
    "        b_input_ids, b_input_mask, b_labels = batch\n",
    "        \n",
    "        # Clear previous gradients\n",
    "        bert_model.zero_grad()\n",
    "        \n",
    "        # Forward pass\n",
    "        outputs = bert_model(\n",
    "            input_ids=b_input_ids,\n",
    "            attention_mask=b_input_mask,\n",
    "            labels=b_labels\n",
    "        )\n",
    "        \n",
    "        loss = outputs.loss\n",
    "        \n",
    "        # Backward pass\n",
    "        loss.backward()\n",
    "        \n",
    "        # Track train loss\n",
    "        tr_loss += loss.item()\n",
    "        nb_tr_examples += b_input_ids.size(0)\n",
    "        nb_tr_steps += 1\n",
    "        \n",
    "        # Gradient clipping\n",
    "        torch.nn.utils.clip_grad_norm_(parameters=bert_model.parameters(), max_norm=max_grad_norm)\n",
    "        \n",
    "        # Update parameters\n",
    "        optimizer.step()\n",
    "    \n",
    "    # Calculate average training loss for this epoch\n",
    "    epoch_train_loss = tr_loss / nb_tr_steps\n",
    "    train_losses.append(epoch_train_loss)\n",
    "    \n",
    "    # Calculate validation loss after each epoch\n",
    "    bert_model.eval()\n",
    "    val_loss = 0\n",
    "    nb_val_steps = 0\n",
    "    \n",
    "    with torch.no_grad():\n",
    "        for batch in tqdm(valid_dataloader, desc=\"Validation\"):\n",
    "            batch = tuple(t.to(device) for t in batch)\n",
    "            val_input_ids, val_input_mask, val_labels = batch\n",
    "            \n",
    "            outputs = bert_model(\n",
    "                input_ids=val_input_ids,\n",
    "                attention_mask=val_input_mask,\n",
    "                labels=val_labels\n",
    "            )\n",
    "            \n",
    "            tmp_val_loss = outputs.loss\n",
    "            val_loss += tmp_val_loss.item()\n",
    "            nb_val_steps += 1\n",
    "    \n",
    "    # Calculate average validation loss for this epoch\n",
    "    epoch_val_loss = val_loss / nb_val_steps\n",
    "    val_losses.append(epoch_val_loss)\n",
    "    \n",
    "    # Print train and validation loss per epoch\n",
    "    print(f'Epoch {epoch+1}/{epochs}')\n",
    "    print(f'Training loss: {epoch_train_loss:.4f}')\n",
    "    print(f'Validation loss: {epoch_val_loss:.4f}')"
   ]
  },
  {
   "cell_type": "code",
   "execution_count": 176,
   "id": "a4f13e0f",
   "metadata": {},
   "outputs": [
    {
     "data": {
      "image/png": "[encoded data removed]",
      "text/plain": [
       "<Figure size 1000x600 with 1 Axes>"
      ]
     },
     "metadata": {},
     "output_type": "display_data"
    },
    {
     "name": "stdout",
     "output_type": "stream",
     "text": [
      "Final Training Loss: 0.0034\n",
      "Final Validation Loss: 0.1420\n"
     ]
    }
   ],
   "source": [
    "plt.figure(figsize=(10, 6))\n",
    "plt.plot(range(1, epochs+1), train_losses, 'b-', label='Training Loss')\n",
    "plt.plot(range(1, epochs+1), val_losses, 'r-', label='Validation Loss')\n",
    "plt.title('Training and Validation Loss')\n",
    "plt.xlabel('Epochs')\n",
    "plt.ylabel('Loss')\n",
    "plt.legend()\n",
    "plt.grid(True)\n",
    "plt.savefig('../results/bert_training_validation_loss.png')\n",
    "plt.show()\n",
    "\n",
    "# Print the final training and validation loss\n",
    "print(f'Final Training Loss: {train_losses[-1]:.4f}')\n",
    "print(f'Final Validation Loss: {val_losses[-1]:.4f}')"
   ]
  },
  {
   "cell_type": "code",
   "execution_count": 177,
   "id": "2c9c899f",
   "metadata": {},
   "outputs": [],
   "source": [
    "# Evaluation loop\n",
    "def evaluate_model(model, dataloader):\n",
    "    model.eval()\n",
    "    \n",
    "    y_true = []\n",
    "    y_pred = []\n",
    "    \n",
    "    eval_loss = 0\n",
    "    nb_eval_steps = 0\n",
    "    \n",
    "    for batch in tqdm(dataloader, desc=\"Evaluating\"):\n",
    "        batch = tuple(t.to(device) for t in batch)\n",
    "        input_ids, input_mask, label_ids = batch\n",
    "        \n",
    "        with torch.no_grad():\n",
    "            outputs = model(\n",
    "                input_ids=input_ids, \n",
    "                attention_mask=input_mask,\n",
    "                labels=label_ids\n",
    "            )\n",
    "            \n",
    "            loss = outputs.loss\n",
    "            logits = outputs.logits\n",
    "            \n",
    "        # Track eval loss\n",
    "        eval_loss += loss.item()\n",
    "        nb_eval_steps += 1\n",
    "        \n",
    "        # Get NER predictions\n",
    "        logits = logits.detach().cpu().numpy()\n",
    "        predictions = np.argmax(logits, axis=2)\n",
    "        \n",
    "        # Get NER true labels\n",
    "        label_ids = label_ids.to('cpu').numpy()\n",
    "        \n",
    "        # Get attention mask to identify real tokens vs padding\n",
    "        input_mask = input_mask.to('cpu').numpy()\n",
    "        \n",
    "        # Compare only the valuable prediction results\n",
    "        for i, mask in enumerate(input_mask):\n",
    "            temp_true = []  # Real labels\n",
    "            temp_pred = []  # Predicted labels\n",
    "            \n",
    "            for j, m in enumerate(mask):\n",
    "                # Only process tokens that aren't padding (mask=1)\n",
    "                if m:\n",
    "                    if idx2tag[label_ids[i][j]] not in ['X', '[CLS]', '[SEP]']:\n",
    "                        temp_true.append(idx2tag[label_ids[i][j]])\n",
    "                        temp_pred.append(idx2tag[predictions[i][j]])\n",
    "                else:\n",
    "                    # Break when we hit padding\n",
    "                    break\n",
    "                    \n",
    "            y_true.append(temp_true)\n",
    "            y_pred.append(temp_pred)\n",
    "    \n",
    "    # Calculate average loss\n",
    "    eval_loss = eval_loss / nb_eval_steps\n",
    "    \n",
    "    # Calculate metrics\n",
    "    f1 = f1_score(y_true, y_pred)\n",
    "    accuracy = accuracy_score(y_true, y_pred)\n",
    "    report = classification_report(y_true, y_pred, digits=4)\n",
    "    \n",
    "    return eval_loss, f1, accuracy, report"
   ]
  },
  {
   "cell_type": "code",
   "execution_count": 183,
   "id": "ef86c403",
   "metadata": {},
   "outputs": [
    {
     "name": "stdout",
     "output_type": "stream",
     "text": [
      "Evaluating model on validation dataset...\n"
     ]
    },
    {
     "name": "stderr",
     "output_type": "stream",
     "text": [
      "Evaluating: 100%|██████████| 59/59 [00:04<00:00, 13.04it/s]\n"
     ]
    },
    {
     "name": "stdout",
     "output_type": "stream",
     "text": [
      "Validation loss: 0.1420\n",
      "F1 score: 0.5328\n",
      "Accuracy score: 0.8417\n",
      "Classification report:\n",
      "              precision    recall  f1-score   support\n",
      "\n",
      "         CLG     0.3232    0.4923    0.3902        65\n",
      "     COMPANY     0.5924    0.6770    0.6319       161\n",
      "         DEG     0.4196    0.7015    0.5251        67\n",
      "       DESIG     0.5133    0.5923    0.5500       130\n",
      "       EMAIL     0.4667    0.5833    0.5185        48\n",
      "    GRADYEAR     0.4304    0.6296    0.5113        54\n",
      "         LOC     0.6837    0.5929    0.6351       113\n",
      "        NAME     0.9167    0.9041    0.9103        73\n",
      "      SKILLS     0.2321    0.3391    0.2756       115\n",
      "         YOE     0.0000    0.0000    0.0000         9\n",
      "           _     0.0000    0.0000    0.0000         0\n",
      "\n",
      "   micro avg     0.4807    0.5976    0.5328       835\n",
      "   macro avg     0.4162    0.5011    0.4498       835\n",
      "weighted avg     0.5123    0.5976    0.5463       835\n",
      "\n"
     ]
    }
   ],
   "source": [
    "# Run evaluation on the validation set\n",
    "print(\"Evaluating model on validation dataset...\")\n",
    "val_loss, val_f1, val_accuracy, val_report = evaluate_model(bert_model, valid_dataloader)\n",
    "\n",
    "print(f\"Validation loss: {val_loss:.4f}\")\n",
    "print(f\"F1 score: {val_f1:.4f}\")\n",
    "print(f\"Accuracy score: {val_accuracy:.4f}\")\n",
    "print(f\"Classification report:\\n{val_report}\")"
   ]
  },
  {
   "cell_type": "code",
   "execution_count": 184,
   "id": "ba2b9da9",
   "metadata": {},
   "outputs": [],
   "source": [
    "def save_model_to_bin(model, output_dir, model_name=\"bert_model.bin\"):\n",
    "    # Create output directory if it doesn't exist\n",
    "    if not os.path.exists(output_dir):\n",
    "        os.makedirs(output_dir)\n",
    "    \n",
    "    # Define the path for the model file\n",
    "    model_path = os.path.join(output_dir, model_name)\n",
    "    \n",
    "    # Save the model state dictionary\n",
    "    print(f\"Saving model to {model_path}\")\n",
    "    torch.save(model.state_dict(), model_path)\n",
    "    print(\"Model saved successfully!\")\n",
    "    \n",
    "    # Return the path for reference\n",
    "    return model_path"
   ]
  },
  {
   "cell_type": "code",
   "execution_count": 185,
   "id": "082d1b6a",
   "metadata": {},
   "outputs": [
    {
     "name": "stdout",
     "output_type": "stream",
     "text": [
      "Saving model to results/bert_ner_model.bin\n",
      "Model saved successfully!\n"
     ]
    }
   ],
   "source": [
    "output_directory = \"results\"\n",
    "model_filename = \"bert_ner_model.bin\"\n",
    "saved_model_path = save_model_to_bin(\n",
    "    model=bert_model,\n",
    "    output_dir=output_directory,\n",
    "    model_name=model_filename\n",
    ")"
   ]
  },
  {
   "cell_type": "markdown",
   "id": "d7cf3de1",
   "metadata": {},
   "source": [
    "BERT Preprocessing"
   ]
  },
  {
   "cell_type": "code",
   "execution_count": 186,
   "id": "cfef4f6d",
   "metadata": {},
   "outputs": [],
   "source": [
    "# JSON formatting functions\n",
    "import logging\n",
    "import re\n",
    "def convert_dataturks_to_spacy(dataturks_JSON_FilePath):\n",
    "    try:\n",
    "        training_data = []\n",
    "        lines=[]\n",
    "        with open(dataturks_JSON_FilePath, 'r',encoding='utf-8') as f:\n",
    "          lines = f.readlines()\n",
    "\n",
    "        for line in lines:\n",
    "            data = json.loads(line)\n",
    "            text = data['content'].replace(\"\\n\", \" \")\n",
    "            entities = []\n",
    "            data_annotations = data['annotation']\n",
    "            if data_annotations is not None:\n",
    "                for annotation in data_annotations:\n",
    "                    #only a single point in text annotation.\n",
    "                    point = annotation['points'][0]\n",
    "                    labels = annotation['label']\n",
    "                    # handle both list of labels or a single label.\n",
    "                    if not isinstance(labels, list):\n",
    "                        labels = [labels]\n",
    "\n",
    "                    for label in labels:\n",
    "                        point_start = point['start']\n",
    "                        point_end = point['end']\n",
    "                        point_text = point['text']\n",
    "                        \n",
    "                        lstrip_diff = len(point_text) - len(point_text.lstrip())\n",
    "                        rstrip_diff = len(point_text) - len(point_text.rstrip())\n",
    "                        if lstrip_diff != 0:\n",
    "                            point_start = point_start + lstrip_diff\n",
    "                        if rstrip_diff != 0:\n",
    "                            point_end = point_end - rstrip_diff\n",
    "                        entities.append((point_start, point_end + 1 , label))\n",
    "            training_data.append((text, {\"entities\" : entities}))\n",
    "        return training_data\n",
    "    except Exception as e:\n",
    "        logging.exception(\"Unable to process \" + dataturks_JSON_FilePath + \"\\n\" + \"error = \" + str(e))\n",
    "        return None\n",
    "\n",
    "def trim_entity_spans(data: list) -> list:\n",
    "    \"\"\"Removes leading and trailing white spaces from entity spans.\n",
    "\n",
    "    Args:\n",
    "        data (list): The data to be cleaned in spaCy JSON format.\n",
    "\n",
    "    Returns:\n",
    "        list: The cleaned data.\n",
    "    \"\"\"\n",
    "    invalid_span_tokens = re.compile(r'\\s')\n",
    "\n",
    "    cleaned_data = []\n",
    "    for text, annotations in data:\n",
    "        entities = annotations['entities']\n",
    "        valid_entities = []\n",
    "        for start, end, label in entities:\n",
    "            valid_start = start\n",
    "            valid_end = end\n",
    "            while valid_start < len(text) and invalid_span_tokens.match(\n",
    "                    text[valid_start]):\n",
    "                valid_start += 1\n",
    "            while valid_end > 1 and invalid_span_tokens.match(\n",
    "                    text[valid_end - 1]):\n",
    "                valid_end -= 1\n",
    "            valid_entities.append([valid_start, valid_end, label])\n",
    "        cleaned_data.append([text, {'entities': valid_entities}])\n",
    "    return cleaned_data     "
   ]
  },
  {
   "cell_type": "code",
   "execution_count": 187,
   "id": "4273574b",
   "metadata": {},
   "outputs": [
    {
     "data": {
      "text/plain": [
       "[\"Abhishek Jha Application Development Associate - Accenture  Bengaluru, Karnataka - Email me on Indeed: indeed.com/r/Abhishek-Jha/10e7a8cb732bc43a  • To work for an organization which provides me the opportunity to improve my skills and knowledge for my individual and company's growth in best possible ways.  Willing to relocate to: Bangalore, Karnataka  WORK EXPERIENCE  Application Development Associate  Accenture -  November 2017 to Present  Role: Currently working on Chat-bot. Developing Backend Oracle PeopleSoft Queries for the Bot which will be triggered based on given input. Also, Training the bot for different possible utterances (Both positive and negative), which will be given as input by the user.  EDUCATION  B.E in Information science and engineering  B.v.b college of engineering and technology -  Hubli, Karnataka  August 2013 to June 2017  12th in Mathematics  Woodbine modern school  April 2011 to March 2013  10th  Kendriya Vidyalaya  April 2001 to March 2011  SKILLS  C (Less than 1 year), Database (Less than 1 year), Database Management (Less than 1 year), Database Management System (Less than 1 year), Java (Less than 1 year)  ADDITIONAL INFORMATION  Technical Skills  https://www.indeed.com/r/Abhishek-Jha/10e7a8cb732bc43a?isid=rex-download&ikw=download-top&co=IN   • Programming language: C, C++, Java • Oracle PeopleSoft • Internet Of Things • Machine Learning • Database Management System • Computer Networks • Operating System worked on: Linux, Windows, Mac  Non - Technical Skills  • Honest and Hard-Working • Tolerant and Flexible to Different Situations • Polite and Calm • Team-Player\",\n",
       " {'entities': [[1296, 1622, 'Skills'],\n",
       "   [993, 1154, 'Skills'],\n",
       "   [939, 957, 'College Name'],\n",
       "   [883, 905, 'College Name'],\n",
       "   [856, 860, 'Graduation Year'],\n",
       "   [771, 814, 'College Name'],\n",
       "   [727, 769, 'Designation'],\n",
       "   [407, 416, 'Companies worked at'],\n",
       "   [372, 405, 'Designation'],\n",
       "   [95, 145, 'Email Address'],\n",
       "   [60, 69, 'Location'],\n",
       "   [49, 58, 'Companies worked at'],\n",
       "   [13, 46, 'Designation'],\n",
       "   [0, 12, 'Name']]}]"
      ]
     },
     "execution_count": 187,
     "metadata": {},
     "output_type": "execute_result"
    }
   ],
   "source": [
    "data = trim_entity_spans(convert_dataturks_to_spacy(data_file_address))\n",
    "data[0]"
   ]
  },
  {
   "cell_type": "code",
   "execution_count": 188,
   "id": "81e86c87",
   "metadata": {},
   "outputs": [],
   "source": [
    "def getWordnetPos(words):\n",
    "    tag=pos_tag([words])[0][1][0].upper()\n",
    "    tag_dict={\"J\":wordnet.ADJ,\n",
    "              \"N\":wordnet.NOUN,\n",
    "              \"V\":wordnet.VERB,\n",
    "              \"R\":wordnet.ADV\n",
    "             }\n",
    "    return tag_dict.get(tag,wordnet.NOUN)\n",
    "\n",
    "def cv_preprocessing(cv_data):\n",
    "    #Tokenization\n",
    "    tokenized_text=word_tokenize(cv_data)\n",
    "\n",
    "    #Remove stopwords\n",
    "    stop_words = set(stopwords.words('english'))\n",
    "    filter_text=[]\n",
    "    for token in tokenized_text:\n",
    "      if token not in stop_words:\n",
    "            filter_text.append(token)\n",
    "\n",
    "    #POS and lemmatize\n",
    "    lemmatizer = WordNetLemmatizer()\n",
    "    lemmatizeResults=[lemmatizer.lemmatize(token,getWordnetPos(token)) for token in filter_text]\n",
    "    return ' '.join(lemmatizeResults)\n",
    "\n",
    "def pdftotext(m,preprocessing=False):\n",
    "    #Open pdf file\n",
    "    doc=fitz.open(m)\n",
    "\n",
    "    #Convert pdf to text\n",
    "    text=''\n",
    "    for page in doc:\n",
    "      text+=page.get_text()\n",
    "\n",
    "    #Remove new line\n",
    "    text=' '.join(text.split('\\n'))\n",
    "\n",
    "    if preprocessing:\n",
    "      return cv_preprocessing(text)\n",
    "    else:\n",
    "      return text"
   ]
  },
  {
   "cell_type": "code",
   "execution_count": 213,
   "id": "ff5422b5",
   "metadata": {},
   "outputs": [],
   "source": [
    "def bert_predict(cv_data: str):\n",
    "    # Token id embedding, mask word embedding\n",
    "    tokenized_texts = []\n",
    "    temp_token = []\n",
    "\n",
    "    # Add [CLS] at the front\n",
    "    temp_token.append('[CLS]')\n",
    "    token_list = tokenizer.tokenize(cv_data)\n",
    "    \n",
    "    for m, token in enumerate(token_list):\n",
    "        temp_token.append(token)\n",
    "\n",
    "    # Trim the token to fit the length requirement\n",
    "    if len(temp_token) > MAX_LEN-1:\n",
    "        temp_token = temp_token[:MAX_LEN-1]\n",
    "\n",
    "    # Add [SEP] at the end\n",
    "    temp_token.append('[SEP]')  \n",
    "\n",
    "    tokenized_texts.append(temp_token)\n",
    "\n",
    "    # Make id embedding  \n",
    "    input_ids = pad_sequences([tokenizer.convert_tokens_to_ids(txt) for txt in tokenized_texts],\n",
    "                          maxlen=MAX_LEN, dtype='long', truncating='post', padding='post')\n",
    "    \n",
    "    # Make mask embedding -> For fine tune of predict, with token mask is 1, pad token is 0\n",
    "    attention_masks = [[float(i>0) for i in ii] for ii in input_ids]\n",
    "    segment_ids = [[0] * len(input_id) for input_id in input_ids]\n",
    "\n",
    "    # Make embeddings into torch tensor\n",
    "    input_ids = torch.tensor(input_ids)\n",
    "    attention_masks = torch.tensor(attention_masks)\n",
    "    segment_ids = torch.tensor(segment_ids)\n",
    "    \n",
    "    # Move tensors to GPU if available\n",
    "    input_ids = input_ids.to(device)\n",
    "    attention_masks = attention_masks.to(device)\n",
    "    \n",
    "    with torch.no_grad():\n",
    "        # Now properly passing the attention_mask\n",
    "        outputs = bert_model(\n",
    "            input_ids=input_ids,\n",
    "            token_type_ids=None,\n",
    "            attention_mask=attention_masks,\n",
    "        )\n",
    "        # For eval mode, the first result of outputs is logits\n",
    "        logits = outputs.logits if hasattr(outputs, 'logits') else outputs[0]\n",
    "\n",
    "    predict_results = logits.detach().cpu().numpy()\n",
    "    results_arrays_soft = softmax(predict_results)  # Make each token predict result into softmax mode\n",
    "    result_array = results_arrays_soft\n",
    "    result_list = np.argmax(result_array, axis=-1)\n",
    "\n",
    "    # Initialize result dictionary with empty lists for each key\n",
    "    result_json = {\n",
    "        'Name': [],\n",
    "        'College Name': [],\n",
    "        'Degree': [],\n",
    "        'Graduation Year': [],\n",
    "        'Years of Experience': [],\n",
    "        'Companies worked at': [],\n",
    "        'Designation': [],\n",
    "        'Skills': [],\n",
    "        'Location': [],\n",
    "        'Email Address': []\n",
    "    }\n",
    "    \n",
    "    # Map entity types from tags to keys in the result JSON\n",
    "    entity_type_map = {\n",
    "        'NAME': 'Name',\n",
    "        'CLG': 'College Name',\n",
    "        'DEG': 'Degree',\n",
    "        'GRADYEAR': 'Graduation Year',\n",
    "        'YEARS': 'Years of Experience',\n",
    "        'COMPANY': 'Companies worked at',\n",
    "        'DESIG': 'Designation',\n",
    "        'SKILLS': 'Skills',\n",
    "        'LOC': 'Location',\n",
    "        'EMAIL': 'Email Address'\n",
    "    }\n",
    "    \n",
    "    # Create a list to store token-tag pairs\n",
    "    token_tag_pairs = []\n",
    "    \n",
    "    # Extract valid tokens and their tags\n",
    "    for i in range(len(temp_token)):\n",
    "        if i < len(attention_masks[0]) and attention_masks[0][i] > 0:\n",
    "            token = temp_token[i]\n",
    "            tag = idx2tag[result_list[0][i]]\n",
    "            token_tag_pairs.append((token, tag))\n",
    "    \n",
    "    # Process token-tag pairs to reconstruct entities\n",
    "    current_entity = None\n",
    "    current_entity_type = None\n",
    "    current_entity_tokens = []\n",
    "    \n",
    "    for i, (token, tag) in enumerate(token_tag_pairs):\n",
    "        # Skip special tokens\n",
    "        if token in ['[CLS]', '[SEP]']:\n",
    "            continue\n",
    "            \n",
    "        # Process tags\n",
    "        if tag.startswith('B-'):  # Beginning of a multi-token entity\n",
    "            # If we were building an entity, save it\n",
    "            if current_entity_type and current_entity_tokens:\n",
    "                entity_text = reconstruct_entity_text(current_entity_tokens)\n",
    "                if current_entity_type in entity_type_map:\n",
    "                    result_json[entity_type_map[current_entity_type]].append(entity_text)\n",
    "            \n",
    "            # Start new entity\n",
    "            current_entity_type = tag[2:]\n",
    "            current_entity_tokens = [token]\n",
    "            \n",
    "        elif tag.startswith('I-'):  # Inside of a multi-token entity\n",
    "            if current_entity_type == tag[2:]:\n",
    "                current_entity_tokens.append(token)\n",
    "                \n",
    "        elif tag.startswith('L-'):  # Last token of a multi-token entity\n",
    "            if current_entity_type == tag[2:]:\n",
    "                current_entity_tokens.append(token)\n",
    "                # Save the completed entity\n",
    "                entity_text = reconstruct_entity_text(current_entity_tokens)\n",
    "                if current_entity_type in entity_type_map:\n",
    "                    result_json[entity_type_map[current_entity_type]].append(entity_text)\n",
    "                # Reset for next entity\n",
    "                current_entity_type = None\n",
    "                current_entity_tokens = []\n",
    "                \n",
    "        elif tag.startswith('U-'):  # Unit/single token entity\n",
    "            entity_type = tag[2:]\n",
    "            entity_text = token.replace('##', '')\n",
    "            if entity_type in entity_type_map:\n",
    "                result_json[entity_type_map[entity_type]].append(entity_text)\n",
    "                \n",
    "        elif tag == 'X':  # Subword token\n",
    "            if current_entity_tokens:\n",
    "                current_entity_tokens.append(token)\n",
    "    \n",
    "    # In case the last entity wasn't closed with an L- tag\n",
    "    if current_entity_type and current_entity_tokens:\n",
    "        entity_text = reconstruct_entity_text(current_entity_tokens)\n",
    "        if current_entity_type in entity_type_map:\n",
    "            result_json[entity_type_map[current_entity_type]].append(entity_text)\n",
    "    \n",
    "    # Post-process the entities to clean them up\n",
    "    for key in result_json:\n",
    "        # Remove duplicates while preserving order\n",
    "        unique_entities = []\n",
    "        seen = set()\n",
    "        for entity in result_json[key]:\n",
    "            if entity not in seen:\n",
    "                seen.add(entity)\n",
    "                unique_entities.append(entity)\n",
    "        result_json[key] = unique_entities\n",
    "    \n",
    "    return result_json\n",
    "\n",
    "def reconstruct_entity_text(tokens):\n",
    "    \"\"\"Reconstruct entity text from tokens, handling BERT's subword tokenization.\"\"\"\n",
    "    text = \"\"\n",
    "    for token in tokens:\n",
    "        if token.startswith('##'):\n",
    "            text += token[2:]\n",
    "        elif token.startswith('#'):\n",
    "            text += token[1:]\n",
    "        else:\n",
    "            if text:\n",
    "                text += ' ' + token\n",
    "            else:\n",
    "                text += token\n",
    "    return text"
   ]
  },
  {
   "cell_type": "code",
   "execution_count": 214,
   "id": "3762875d",
   "metadata": {},
   "outputs": [
    {
     "data": {
      "text/plain": [
       "{'Name': ['abhishek j'],\n",
       " 'College Name': ['b . v . b college of engineering and technology',\n",
       "  'woodbine modern school',\n",
       "  'kendriyaidyalayapril'],\n",
       " 'Degree': ['b . e in information science and engineering'],\n",
       " 'Graduation Year': ['2013', '2017'],\n",
       " 'Years of Experience': [],\n",
       " 'Companies worked at': ['accent'],\n",
       " 'Designation': ['application development associate'],\n",
       " 'Skills': ['c ( less than 1 year ) , database ( less than 1 year ) , database management ( less than 1 year ) , database management system ( less than 1 year ) , java ( less than 1 year )',\n",
       "  'https : / / www . indeed . com / r / abhishek - jha / 10e7a8cb732bc43a ? isid = rex - download & ikw = download - top & co = in • programming language : c , c + + , java • oracle peoplesoft • internet of things • machine learning • database management system • computer networks • operating system worked on : linux , windows , mac non - technical skills • honest hard - working • tolerant and flexible different situations • polite and calm • team - player'],\n",
       " 'Location': ['ben'],\n",
       " 'Email Address': ['indeed . com / r / abhishek - jha / 10e7a8cb732bc43a salorernataka']}"
      ]
     },
     "execution_count": 214,
     "metadata": {},
     "output_type": "execute_result"
    }
   ],
   "source": [
    "bert_predict(df.iloc[0]['content'])"
   ]
  },
  {
   "cell_type": "code",
   "execution_count": null,
   "id": "52570d92",
   "metadata": {},
   "outputs": [],
   "source": []
  }
 ],
 "metadata": {
  "kernelspec": {
   "display_name": ".venv",
   "language": "python",
   "name": "python3"
  },
  "language_info": {
   "codemirror_mode": {
    "name": "ipython",
    "version": 3
   },
   "file_extension": ".py",
   "mimetype": "text/x-python",
   "name": "python",
   "nbconvert_exporter": "python",
   "pygments_lexer": "ipython3",
   "version": "3.12.3"
  }
 },
 "nbformat": 4,
 "nbformat_minor": 5
}
